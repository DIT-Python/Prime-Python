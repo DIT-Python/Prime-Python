{
  "nbformat": 4,
  "nbformat_minor": 0,
  "metadata": {
    "kernelspec": {
      "display_name": "Python 3",
      "language": "python",
      "name": "python3"
    },
    "language_info": {
      "codemirror_mode": {
        "name": "ipython",
        "version": 3
      },
      "file_extension": ".py",
      "mimetype": "text/x-python",
      "name": "python",
      "nbconvert_exporter": "python",
      "pygments_lexer": "ipython3",
      "version": "3.7.3"
    },
    "colab": {
      "name": "Ch11-넘파이.ipynb",
      "provenance": [],
      "collapsed_sections": [
        "MfxITPYoi10w",
        "IxAgoPLFjM7n",
        "oUNFFJLRmaXX",
        "6TTJE-Y-maXl",
        "6v5dZXsTmaX6",
        "F1ieK0AqmaYH",
        "sCtfgipEQKMn",
        "ivtTBYM4maYK",
        "7y9zLz9LmaYQ",
        "8xG0l_9tdqR7",
        "qOEq-IRbmaYd",
        "m7gkfbFCmaYi",
        "xOqUyiEHduj8",
        "oVVuGWYNmaY6",
        "jg4ezFSkJw8T",
        "-vK10BXRlbpZ",
        "ZFSfitfbrXHq"
      ],
      "include_colab_link": true
    }
  },
  "cells": [
    {
      "cell_type": "markdown",
      "metadata": {
        "id": "view-in-github",
        "colab_type": "text"
      },
      "source": [
        "<a href=\"https://colab.research.google.com/github/dongupak/Prime-Python/blob/master/jupyter-notebook/Ch11_%EB%84%98%ED%8C%8C%EC%9D%B4.ipynb\" target=\"_parent\"><img src=\"https://colab.research.google.com/assets/colab-badge.svg\" alt=\"Open In Colab\"/></a>"
      ]
    },
    {
      "cell_type": "markdown",
      "metadata": {
        "id": "_KufRqVLo1zH",
        "colab_type": "text"
      },
      "source": [
        "# **생능 출판사 \"으뜸 파이썬\"(1판) 교재의 소스 코드**\n",
        "# *11장 넘파이*\n",
        "---\n",
        "* 출판사 : 생능 출판사( http://www.booksr.co.kr/ )\n",
        "* 으뜸 파이썬 저자 : 박동규, 강영민 \n",
        "* 소스코드 저장소 : https://github.com/dongupak/Prime-Python\n",
        "* 저작권 : 본 주피터 노트북 코드는 학습을 위한 목적으로 자유롭게 배포가능하지만 위의 출판사, 저서, 저자표기와 함께 배포해 주십시오.\n",
        "--- \n"
      ]
    },
    {
      "cell_type": "markdown",
      "metadata": {
        "id": "DN3TJOI5maVD",
        "colab_type": "text"
      },
      "source": [
        "## 대화창 실습 : numpy의 ndarray 사용"
      ]
    },
    {
      "cell_type": "code",
      "metadata": {
        "scrolled": true,
        "id": "iDm2lF3UmaVG",
        "colab_type": "code",
        "outputId": "95ffed6f-cf9c-4932-c92c-fb44787d6130",
        "colab": {
          "base_uri": "https://localhost:8080/",
          "height": 35
        }
      },
      "source": [
        "import numpy as np\n",
        "a = np.array([1, 2, 3])\n",
        "a"
      ],
      "execution_count": 0,
      "outputs": [
        {
          "output_type": "execute_result",
          "data": {
            "text/plain": [
              "array([1, 2, 3])"
            ]
          },
          "metadata": {
            "tags": []
          },
          "execution_count": 1
        }
      ]
    },
    {
      "cell_type": "code",
      "metadata": {
        "id": "q2KiA39dmaVT",
        "colab_type": "code",
        "outputId": "5fe7a0dd-66aa-4dc8-a6ef-4c8869740336",
        "colab": {
          "base_uri": "https://localhost:8080/",
          "height": 36
        }
      },
      "source": [
        "a.shape"
      ],
      "execution_count": 0,
      "outputs": [
        {
          "output_type": "execute_result",
          "data": {
            "text/plain": [
              "(3,)"
            ]
          },
          "metadata": {
            "tags": []
          },
          "execution_count": 2
        }
      ]
    },
    {
      "cell_type": "code",
      "metadata": {
        "id": "z8Ojq6NnmaVc",
        "colab_type": "code",
        "outputId": "a24cdc55-6a22-4d4b-904e-eacd06689cf7",
        "colab": {
          "base_uri": "https://localhost:8080/",
          "height": 36
        }
      },
      "source": [
        "a.ndim "
      ],
      "execution_count": 0,
      "outputs": [
        {
          "output_type": "execute_result",
          "data": {
            "text/plain": [
              "1"
            ]
          },
          "metadata": {
            "tags": []
          },
          "execution_count": 3
        }
      ]
    },
    {
      "cell_type": "code",
      "metadata": {
        "id": "-YSOpmXMmaVj",
        "colab_type": "code",
        "outputId": "1dbd1d86-309a-4402-8c27-fd2ecca0db88",
        "colab": {
          "base_uri": "https://localhost:8080/",
          "height": 36
        }
      },
      "source": [
        "a.dtype"
      ],
      "execution_count": 0,
      "outputs": [
        {
          "output_type": "execute_result",
          "data": {
            "text/plain": [
              "dtype('int64')"
            ]
          },
          "metadata": {
            "tags": []
          },
          "execution_count": 4
        }
      ]
    },
    {
      "cell_type": "code",
      "metadata": {
        "id": "EfjBCuDamaVq",
        "colab_type": "code",
        "outputId": "492b9621-d3f4-46c6-c451-2c648be4b437",
        "colab": {
          "base_uri": "https://localhost:8080/",
          "height": 36
        }
      },
      "source": [
        "a.itemsize"
      ],
      "execution_count": 0,
      "outputs": [
        {
          "output_type": "execute_result",
          "data": {
            "text/plain": [
              "8"
            ]
          },
          "metadata": {
            "tags": []
          },
          "execution_count": 5
        }
      ]
    },
    {
      "cell_type": "code",
      "metadata": {
        "id": "2DVblxOemaVy",
        "colab_type": "code",
        "outputId": "1e5f2121-be68-4dbf-e8ee-9eaac80c68d0",
        "colab": {
          "base_uri": "https://localhost:8080/",
          "height": 36
        }
      },
      "source": [
        "a.size"
      ],
      "execution_count": 0,
      "outputs": [
        {
          "output_type": "execute_result",
          "data": {
            "text/plain": [
              "3"
            ]
          },
          "metadata": {
            "tags": []
          },
          "execution_count": 6
        }
      ]
    },
    {
      "cell_type": "markdown",
      "metadata": {
        "id": "r-KVf1a0maV8",
        "colab_type": "text"
      },
      "source": [
        "## 대화창 실습 : numpy와 데이터 형"
      ]
    },
    {
      "cell_type": "code",
      "metadata": {
        "id": "u-3HhqdGmaV-",
        "colab_type": "code",
        "colab": {}
      },
      "source": [
        "a = np.array([1, 2, 3], dtype='int32')"
      ],
      "execution_count": 0,
      "outputs": []
    },
    {
      "cell_type": "code",
      "metadata": {
        "id": "D3qYBvzAmaWD",
        "colab_type": "code",
        "colab": {}
      },
      "source": [
        "b = np.array([4, 5, 6], dtype='int64')"
      ],
      "execution_count": 0,
      "outputs": []
    },
    {
      "cell_type": "code",
      "metadata": {
        "id": "7sR2ykG7maWI",
        "colab_type": "code",
        "outputId": "52cf7dbd-f146-4094-a19a-fb0e46aae274",
        "colab": {
          "base_uri": "https://localhost:8080/",
          "height": 36
        }
      },
      "source": [
        "a.dtype"
      ],
      "execution_count": 0,
      "outputs": [
        {
          "output_type": "execute_result",
          "data": {
            "text/plain": [
              "dtype('int32')"
            ]
          },
          "metadata": {
            "tags": []
          },
          "execution_count": 9
        }
      ]
    },
    {
      "cell_type": "code",
      "metadata": {
        "id": "SnVZRiDLmaWM",
        "colab_type": "code",
        "outputId": "0b050b92-3e91-4708-df72-3921d7735ec1",
        "colab": {
          "base_uri": "https://localhost:8080/",
          "height": 36
        }
      },
      "source": [
        "b.dtype"
      ],
      "execution_count": 0,
      "outputs": [
        {
          "output_type": "execute_result",
          "data": {
            "text/plain": [
              "dtype('int64')"
            ]
          },
          "metadata": {
            "tags": []
          },
          "execution_count": 10
        }
      ]
    },
    {
      "cell_type": "code",
      "metadata": {
        "id": "vTTDxn9TmaWR",
        "colab_type": "code",
        "outputId": "0ec90b6e-88a5-4991-9e1e-b48942088dda",
        "colab": {
          "base_uri": "https://localhost:8080/",
          "height": 36
        }
      },
      "source": [
        "c = a + b\n",
        "c.dtype"
      ],
      "execution_count": 0,
      "outputs": [
        {
          "output_type": "execute_result",
          "data": {
            "text/plain": [
              "dtype('int64')"
            ]
          },
          "metadata": {
            "tags": []
          },
          "execution_count": 11
        }
      ]
    },
    {
      "cell_type": "markdown",
      "metadata": {
        "id": "v2hVsTeMK90O",
        "colab_type": "text"
      },
      "source": [
        "###  주의 : ndarray 배열을 생성할 때 주의할 점"
      ]
    },
    {
      "cell_type": "code",
      "metadata": {
        "id": "5_Rn3_UQIDZa",
        "colab_type": "code",
        "colab": {}
      },
      "source": [
        "a = np.array([1, 2, 3, 4])"
      ],
      "execution_count": 0,
      "outputs": []
    },
    {
      "cell_type": "code",
      "metadata": {
        "id": "jLOzPWcbIQEy",
        "colab_type": "code",
        "outputId": "37d9bd9d-e6a0-41d1-e261-8f74f63f6115",
        "colab": {
          "base_uri": "https://localhost:8080/",
          "height": 188
        }
      },
      "source": [
        "a = np.array(1, 2, 3, 4) # 잘못된 입력"
      ],
      "execution_count": 0,
      "outputs": [
        {
          "output_type": "error",
          "ename": "ValueError",
          "evalue": "ignored",
          "traceback": [
            "\u001b[0;31m---------------------------------------------------------------------------\u001b[0m",
            "\u001b[0;31mValueError\u001b[0m                                Traceback (most recent call last)",
            "\u001b[0;32m<ipython-input-5-844a5529a1e7>\u001b[0m in \u001b[0;36m<module>\u001b[0;34m()\u001b[0m\n\u001b[0;32m----> 1\u001b[0;31m \u001b[0ma\u001b[0m \u001b[0;34m=\u001b[0m \u001b[0mnp\u001b[0m\u001b[0;34m.\u001b[0m\u001b[0marray\u001b[0m\u001b[0;34m(\u001b[0m\u001b[0;36m1\u001b[0m\u001b[0;34m,\u001b[0m \u001b[0;36m2\u001b[0m\u001b[0;34m,\u001b[0m \u001b[0;36m3\u001b[0m\u001b[0;34m,\u001b[0m \u001b[0;36m4\u001b[0m\u001b[0;34m)\u001b[0m \u001b[0;31m# 잘못된 입력\u001b[0m\u001b[0;34m\u001b[0m\u001b[0;34m\u001b[0m\u001b[0m\n\u001b[0m",
            "\u001b[0;31mValueError\u001b[0m: only 2 non-keyword arguments accepted"
          ]
        }
      ]
    },
    {
      "cell_type": "code",
      "metadata": {
        "id": "v0mFdJFXLQ8f",
        "colab_type": "code",
        "outputId": "74446a58-64b7-49bf-af85-9565931750da",
        "colab": {
          "base_uri": "https://localhost:8080/",
          "height": 206
        }
      },
      "source": [
        "a = np.array([1, 'two', 3, 4], dtype=np.int32)\n",
        "a"
      ],
      "execution_count": 0,
      "outputs": [
        {
          "output_type": "error",
          "ename": "ValueError",
          "evalue": "ignored",
          "traceback": [
            "\u001b[0;31m---------------------------------------------------------------------------\u001b[0m",
            "\u001b[0;31mValueError\u001b[0m                                Traceback (most recent call last)",
            "\u001b[0;32m<ipython-input-6-d032ca3a7ee1>\u001b[0m in \u001b[0;36m<module>\u001b[0;34m()\u001b[0m\n\u001b[0;32m----> 1\u001b[0;31m \u001b[0ma\u001b[0m \u001b[0;34m=\u001b[0m \u001b[0mnp\u001b[0m\u001b[0;34m.\u001b[0m\u001b[0marray\u001b[0m\u001b[0;34m(\u001b[0m\u001b[0;34m[\u001b[0m\u001b[0;36m1\u001b[0m\u001b[0;34m,\u001b[0m \u001b[0;34m'two'\u001b[0m\u001b[0;34m,\u001b[0m \u001b[0;36m3\u001b[0m\u001b[0;34m,\u001b[0m \u001b[0;36m4\u001b[0m\u001b[0;34m]\u001b[0m\u001b[0;34m,\u001b[0m \u001b[0mdtype\u001b[0m\u001b[0;34m=\u001b[0m\u001b[0mnp\u001b[0m\u001b[0;34m.\u001b[0m\u001b[0mint32\u001b[0m\u001b[0;34m)\u001b[0m\u001b[0;34m\u001b[0m\u001b[0;34m\u001b[0m\u001b[0m\n\u001b[0m\u001b[1;32m      2\u001b[0m \u001b[0ma\u001b[0m\u001b[0;34m\u001b[0m\u001b[0;34m\u001b[0m\u001b[0m\n",
            "\u001b[0;31mValueError\u001b[0m: invalid literal for int() with base 10: 'two'"
          ]
        }
      ]
    },
    {
      "cell_type": "code",
      "metadata": {
        "id": "2WZxBdv9LDWW",
        "colab_type": "code",
        "outputId": "dd7f1a6f-baee-403f-8217-c2ec7316796e",
        "colab": {
          "base_uri": "https://localhost:8080/",
          "height": 35
        }
      },
      "source": [
        "a = np.array([1, 'two', 3, 4])\n",
        "a"
      ],
      "execution_count": 0,
      "outputs": [
        {
          "output_type": "execute_result",
          "data": {
            "text/plain": [
              "array(['1', 'two', '3', '4'], dtype='<U21')"
            ]
          },
          "metadata": {
            "tags": []
          },
          "execution_count": 7
        }
      ]
    },
    {
      "cell_type": "markdown",
      "metadata": {
        "id": "ENOO45ygIbkI",
        "colab_type": "text"
      },
      "source": [
        "## NOTE : 넘파이 배열의 데이터 타입을 지정하는 두 가지 방법"
      ]
    },
    {
      "cell_type": "code",
      "metadata": {
        "id": "C_yuojOGIg8M",
        "colab_type": "code",
        "colab": {}
      },
      "source": [
        "a = np.array([1, 2, 3, 4], dtype = np.int32)"
      ],
      "execution_count": 0,
      "outputs": []
    },
    {
      "cell_type": "code",
      "metadata": {
        "id": "k9LUvIetIjKy",
        "colab_type": "code",
        "colab": {}
      },
      "source": [
        "a = np.array([1, 2, 3, 4], dtype = 'int32')"
      ],
      "execution_count": 0,
      "outputs": []
    },
    {
      "cell_type": "markdown",
      "metadata": {
        "id": "EnFqpPvtxdy2",
        "colab_type": "text"
      },
      "source": [
        "## 대화창 실습 : ndarray의 메소드"
      ]
    },
    {
      "cell_type": "code",
      "metadata": {
        "id": "rCIvT9Gos4BO",
        "colab_type": "code",
        "outputId": "b5602179-876d-4b9e-db6c-fd2eb7aea69c",
        "colab": {
          "base_uri": "https://localhost:8080/",
          "height": 35
        }
      },
      "source": [
        "import numpy as np\n",
        "a = np.array([1, 2, 3])\n",
        "a.max()"
      ],
      "execution_count": 0,
      "outputs": [
        {
          "output_type": "execute_result",
          "data": {
            "text/plain": [
              "3"
            ]
          },
          "metadata": {
            "tags": []
          },
          "execution_count": 10
        }
      ]
    },
    {
      "cell_type": "code",
      "metadata": {
        "id": "bfgOw42BtJ04",
        "colab_type": "code",
        "outputId": "1c792f95-1414-4316-d0de-7c9bc31bd236",
        "colab": {
          "base_uri": "https://localhost:8080/",
          "height": 35
        }
      },
      "source": [
        "a.min()"
      ],
      "execution_count": 0,
      "outputs": [
        {
          "output_type": "execute_result",
          "data": {
            "text/plain": [
              "1"
            ]
          },
          "metadata": {
            "tags": []
          },
          "execution_count": 11
        }
      ]
    },
    {
      "cell_type": "code",
      "metadata": {
        "id": "TKHfbfFltNFc",
        "colab_type": "code",
        "outputId": "d34784ff-ad78-469d-c937-4832cbc645b6",
        "colab": {
          "base_uri": "https://localhost:8080/",
          "height": 35
        }
      },
      "source": [
        "a.mean()"
      ],
      "execution_count": 0,
      "outputs": [
        {
          "output_type": "execute_result",
          "data": {
            "text/plain": [
              "2.0"
            ]
          },
          "metadata": {
            "tags": []
          },
          "execution_count": 12
        }
      ]
    },
    {
      "cell_type": "markdown",
      "metadata": {
        "id": "MfxITPYoi10w",
        "colab_type": "text"
      },
      "source": [
        "## 대화창 실습 : ndarray의 flatten() 메소드"
      ]
    },
    {
      "cell_type": "code",
      "metadata": {
        "id": "m0mCTEoJi7Q7",
        "colab_type": "code",
        "outputId": "dabe0c16-436d-45be-f0a9-b10149d7d2ad",
        "colab": {
          "base_uri": "https://localhost:8080/",
          "height": 35
        }
      },
      "source": [
        "a = np.array([[1, 1], [2, 2], [3, 3]])\n",
        "a.flatten()"
      ],
      "execution_count": 0,
      "outputs": [
        {
          "output_type": "execute_result",
          "data": {
            "text/plain": [
              "array([1, 1, 2, 2, 3, 3])"
            ]
          },
          "metadata": {
            "tags": []
          },
          "execution_count": 13
        }
      ]
    },
    {
      "cell_type": "markdown",
      "metadata": {
        "id": "IxAgoPLFjM7n",
        "colab_type": "text"
      },
      "source": [
        "## 대화창 실습 : ndarray의 append() 함수"
      ]
    },
    {
      "cell_type": "code",
      "metadata": {
        "id": "ulaagwCujRMw",
        "colab_type": "code",
        "outputId": "2543e9cd-cb2c-4da3-bd75-309290b980a4",
        "colab": {
          "base_uri": "https://localhost:8080/",
          "height": 35
        }
      },
      "source": [
        "a = np.array([1, 2, 3])\n",
        "b = np.array([[4, 5, 6], [7, 8, 9]])\n",
        "np.append(a, b)"
      ],
      "execution_count": 0,
      "outputs": [
        {
          "output_type": "execute_result",
          "data": {
            "text/plain": [
              "array([1, 2, 3, 4, 5, 6, 7, 8, 9])"
            ]
          },
          "metadata": {
            "tags": []
          },
          "execution_count": 14
        }
      ]
    },
    {
      "cell_type": "code",
      "metadata": {
        "id": "w-vGpSgtjVrO",
        "colab_type": "code",
        "outputId": "d797e3a4-564f-4974-96e6-dd88f8a03f3a",
        "colab": {
          "base_uri": "https://localhost:8080/",
          "height": 70
        }
      },
      "source": [
        "np.append([a], b, axis = 0)  # [a]를 통해 2차원 배열로 만들어야 함"
      ],
      "execution_count": 0,
      "outputs": [
        {
          "output_type": "execute_result",
          "data": {
            "text/plain": [
              "array([[1, 2, 3],\n",
              "       [4, 5, 6],\n",
              "       [7, 8, 9]])"
            ]
          },
          "metadata": {
            "tags": []
          },
          "execution_count": 15
        }
      ]
    },
    {
      "cell_type": "markdown",
      "metadata": {
        "id": "o5TItNH8JIIV",
        "colab_type": "text"
      },
      "source": [
        "## 대화창 실습 : ndarray의 rand() 함수"
      ]
    },
    {
      "cell_type": "code",
      "metadata": {
        "id": "n3k34YFDJK8F",
        "colab_type": "code",
        "outputId": "3e220d32-783d-4d97-a861-2508c4a95ae5",
        "colab": {
          "base_uri": "https://localhost:8080/",
          "height": 70
        }
      },
      "source": [
        "np.random.rand(3, 3) # (3, 3) shape의 난수 생성"
      ],
      "execution_count": 0,
      "outputs": [
        {
          "output_type": "execute_result",
          "data": {
            "text/plain": [
              "array([[0.07552498, 0.35947102, 0.27163194],\n",
              "       [0.42807494, 0.55079932, 0.79890762],\n",
              "       [0.98415269, 0.93965474, 0.51654578]])"
            ]
          },
          "metadata": {
            "tags": []
          },
          "execution_count": 16
        }
      ]
    },
    {
      "cell_type": "markdown",
      "metadata": {
        "id": "4T4hGuJYJanx",
        "colab_type": "text"
      },
      "source": [
        "##  대화창 실습 : ndarray의 randint() 함수"
      ]
    },
    {
      "cell_type": "code",
      "metadata": {
        "id": "wej-yPy7JduL",
        "colab_type": "code",
        "outputId": "c73b315e-2238-444c-8d4a-2417e9647e61",
        "colab": {
          "base_uri": "https://localhost:8080/",
          "height": 35
        }
      },
      "source": [
        "np.random.randint(0, 10, size = 10) # 0에서 10사이의 10개의 난수생성"
      ],
      "execution_count": 0,
      "outputs": [
        {
          "output_type": "execute_result",
          "data": {
            "text/plain": [
              "array([7, 5, 0, 2, 8, 0, 7, 3, 6, 8])"
            ]
          },
          "metadata": {
            "tags": []
          },
          "execution_count": 17
        }
      ]
    },
    {
      "cell_type": "markdown",
      "metadata": {
        "id": "o6KnJCaXjciE",
        "colab_type": "text"
      },
      "source": [
        "## 대화창 실습 : ndarray의 덧셈(shape이 같을 경우)\n",
        " "
      ]
    },
    {
      "cell_type": "code",
      "metadata": {
        "id": "iQ0APRfxjjJJ",
        "colab_type": "code",
        "outputId": "6592a901-70e6-4659-f9ae-8e185d29952a",
        "colab": {
          "base_uri": "https://localhost:8080/",
          "height": 35
        }
      },
      "source": [
        "a = np.array([1, 2, 3])\n",
        "b = np.array([4, 5, 6])\n",
        "c = a + b\n",
        "c"
      ],
      "execution_count": 0,
      "outputs": [
        {
          "output_type": "execute_result",
          "data": {
            "text/plain": [
              "array([5, 7, 9])"
            ]
          },
          "metadata": {
            "tags": []
          },
          "execution_count": 18
        }
      ]
    },
    {
      "cell_type": "markdown",
      "metadata": {
        "id": "uhsH3wpmjnee",
        "colab_type": "text"
      },
      "source": [
        "## 대화창 실습 : numpy의 ndarray의 덧셈(shape이 다를 경우)"
      ]
    },
    {
      "cell_type": "code",
      "metadata": {
        "id": "bjXWC2fYjpu7",
        "colab_type": "code",
        "outputId": "4d67c4ce-3bf1-4f30-b4e2-8e7d6726549c",
        "colab": {
          "base_uri": "https://localhost:8080/",
          "height": 224
        }
      },
      "source": [
        "a = np.array([1, 2])\n",
        "b = np.array([4, 5, 6])\n",
        "c = a + b"
      ],
      "execution_count": 0,
      "outputs": [
        {
          "output_type": "error",
          "ename": "ValueError",
          "evalue": "ignored",
          "traceback": [
            "\u001b[0;31m---------------------------------------------------------------------------\u001b[0m",
            "\u001b[0;31mValueError\u001b[0m                                Traceback (most recent call last)",
            "\u001b[0;32m<ipython-input-19-fb48a6f075bb>\u001b[0m in \u001b[0;36m<module>\u001b[0;34m()\u001b[0m\n\u001b[1;32m      1\u001b[0m \u001b[0ma\u001b[0m \u001b[0;34m=\u001b[0m \u001b[0mnp\u001b[0m\u001b[0;34m.\u001b[0m\u001b[0marray\u001b[0m\u001b[0;34m(\u001b[0m\u001b[0;34m[\u001b[0m\u001b[0;36m1\u001b[0m\u001b[0;34m,\u001b[0m \u001b[0;36m2\u001b[0m\u001b[0;34m]\u001b[0m\u001b[0;34m)\u001b[0m\u001b[0;34m\u001b[0m\u001b[0;34m\u001b[0m\u001b[0m\n\u001b[1;32m      2\u001b[0m \u001b[0mb\u001b[0m \u001b[0;34m=\u001b[0m \u001b[0mnp\u001b[0m\u001b[0;34m.\u001b[0m\u001b[0marray\u001b[0m\u001b[0;34m(\u001b[0m\u001b[0;34m[\u001b[0m\u001b[0;36m4\u001b[0m\u001b[0;34m,\u001b[0m \u001b[0;36m5\u001b[0m\u001b[0;34m,\u001b[0m \u001b[0;36m6\u001b[0m\u001b[0;34m]\u001b[0m\u001b[0;34m)\u001b[0m\u001b[0;34m\u001b[0m\u001b[0;34m\u001b[0m\u001b[0m\n\u001b[0;32m----> 3\u001b[0;31m \u001b[0mc\u001b[0m \u001b[0;34m=\u001b[0m \u001b[0ma\u001b[0m \u001b[0;34m+\u001b[0m \u001b[0mb\u001b[0m\u001b[0;34m\u001b[0m\u001b[0;34m\u001b[0m\u001b[0m\n\u001b[0m",
            "\u001b[0;31mValueError\u001b[0m: operands could not be broadcast together with shapes (2,) (3,) "
          ]
        }
      ]
    },
    {
      "cell_type": "markdown",
      "metadata": {
        "id": "kvmPrJHQmaWb",
        "colab_type": "text"
      },
      "source": [
        "## 대화창 실습 : 2차원 ndarray의 사칙연산"
      ]
    },
    {
      "cell_type": "code",
      "metadata": {
        "id": "yl6TSgJbmaWc",
        "colab_type": "code",
        "outputId": "288458b2-01de-498e-8942-c3ec907a7dd0",
        "colab": {
          "base_uri": "https://localhost:8080/",
          "height": 52
        }
      },
      "source": [
        "a = np.array([[1, 2], [3, 4]])\n",
        "b = np.array([[10,20], [30,40]])\n",
        "a + b"
      ],
      "execution_count": 0,
      "outputs": [
        {
          "output_type": "execute_result",
          "data": {
            "text/plain": [
              "array([[11, 22],\n",
              "       [33, 44]])"
            ]
          },
          "metadata": {
            "tags": []
          },
          "execution_count": 20
        }
      ]
    },
    {
      "cell_type": "code",
      "metadata": {
        "id": "uXmFstJJmaWh",
        "colab_type": "code",
        "outputId": "93f3abc5-d434-4a94-f327-09a435abcf95",
        "colab": {
          "base_uri": "https://localhost:8080/",
          "height": 52
        }
      },
      "source": [
        "a - b"
      ],
      "execution_count": 0,
      "outputs": [
        {
          "output_type": "execute_result",
          "data": {
            "text/plain": [
              "array([[ -9, -18],\n",
              "       [-27, -36]])"
            ]
          },
          "metadata": {
            "tags": []
          },
          "execution_count": 21
        }
      ]
    },
    {
      "cell_type": "code",
      "metadata": {
        "id": "QH_6FK05maWo",
        "colab_type": "code",
        "outputId": "23699d56-c12d-48e1-f5e7-233ecd3482bc",
        "colab": {
          "base_uri": "https://localhost:8080/",
          "height": 52
        }
      },
      "source": [
        "a * b"
      ],
      "execution_count": 0,
      "outputs": [
        {
          "output_type": "execute_result",
          "data": {
            "text/plain": [
              "array([[ 10,  40],\n",
              "       [ 90, 160]])"
            ]
          },
          "metadata": {
            "tags": []
          },
          "execution_count": 22
        }
      ]
    },
    {
      "cell_type": "code",
      "metadata": {
        "id": "oCp7U6cnmaWr",
        "colab_type": "code",
        "outputId": "9f1de7bc-1a25-4f1d-b028-4f5e5f8e3427",
        "colab": {
          "base_uri": "https://localhost:8080/",
          "height": 52
        }
      },
      "source": [
        "a / b"
      ],
      "execution_count": 0,
      "outputs": [
        {
          "output_type": "execute_result",
          "data": {
            "text/plain": [
              "array([[0.1, 0.1],\n",
              "       [0.1, 0.1]])"
            ]
          },
          "metadata": {
            "tags": []
          },
          "execution_count": 23
        }
      ]
    },
    {
      "cell_type": "markdown",
      "metadata": {
        "id": "4Z3-4qR_maWy",
        "colab_type": "text"
      },
      "source": [
        "## 대화창 실습 : 행렬 곱 함수 matmul() 실습"
      ]
    },
    {
      "cell_type": "code",
      "metadata": {
        "id": "AZPWL2wLmaWz",
        "colab_type": "code",
        "outputId": "ec9bd364-d021-440f-8e05-3d88cb3837de",
        "colab": {
          "base_uri": "https://localhost:8080/",
          "height": 52
        }
      },
      "source": [
        "np.matmul(a, b)"
      ],
      "execution_count": 0,
      "outputs": [
        {
          "output_type": "execute_result",
          "data": {
            "text/plain": [
              "array([[ 70, 100],\n",
              "       [150, 220]])"
            ]
          },
          "metadata": {
            "tags": []
          },
          "execution_count": 24
        }
      ]
    },
    {
      "cell_type": "code",
      "metadata": {
        "id": "AaOmYcJwmaW2",
        "colab_type": "code",
        "outputId": "a131238b-fab0-4465-964e-467f5f697112",
        "colab": {
          "base_uri": "https://localhost:8080/",
          "height": 52
        }
      },
      "source": [
        "a @ b"
      ],
      "execution_count": 0,
      "outputs": [
        {
          "output_type": "execute_result",
          "data": {
            "text/plain": [
              "array([[ 70, 100],\n",
              "       [150, 220]])"
            ]
          },
          "metadata": {
            "tags": []
          },
          "execution_count": 25
        }
      ]
    },
    {
      "cell_type": "code",
      "metadata": {
        "id": "EYteDosLmaW6",
        "colab_type": "code",
        "outputId": "01549c8d-2baa-418e-dcc9-af6d6417aab2",
        "colab": {
          "base_uri": "https://localhost:8080/",
          "height": 35
        }
      },
      "source": [
        "a[0,0] * b[0,0] + a[0,1] * b[1,0]"
      ],
      "execution_count": 0,
      "outputs": [
        {
          "output_type": "execute_result",
          "data": {
            "text/plain": [
              "70"
            ]
          },
          "metadata": {
            "tags": []
          },
          "execution_count": 26
        }
      ]
    },
    {
      "cell_type": "code",
      "metadata": {
        "id": "xKzr32UzmaW_",
        "colab_type": "code",
        "outputId": "ec5d0ab4-d7d8-490e-d43c-a07312a8d30c",
        "colab": {
          "base_uri": "https://localhost:8080/",
          "height": 35
        }
      },
      "source": [
        "a[0,0] * b[0,1] + a[0,1] * b[1,1]"
      ],
      "execution_count": 0,
      "outputs": [
        {
          "output_type": "execute_result",
          "data": {
            "text/plain": [
              "100"
            ]
          },
          "metadata": {
            "tags": []
          },
          "execution_count": 27
        }
      ]
    },
    {
      "cell_type": "code",
      "metadata": {
        "id": "oSLtgse7maXC",
        "colab_type": "code",
        "outputId": "d5fc391f-fb0a-4b2c-aca2-8da189dde88f",
        "colab": {
          "base_uri": "https://localhost:8080/",
          "height": 35
        }
      },
      "source": [
        "a[1,0] * b[0,0] + a[1,1] * b[1,0]"
      ],
      "execution_count": 0,
      "outputs": [
        {
          "output_type": "execute_result",
          "data": {
            "text/plain": [
              "150"
            ]
          },
          "metadata": {
            "tags": []
          },
          "execution_count": 28
        }
      ]
    },
    {
      "cell_type": "code",
      "metadata": {
        "id": "gf1Bcjw7maXE",
        "colab_type": "code",
        "outputId": "0fdc7879-1944-450f-c315-059ea657a649",
        "colab": {
          "base_uri": "https://localhost:8080/",
          "height": 35
        }
      },
      "source": [
        "a[1,0] * b[0,1] + a[1,1] * b[1,1]"
      ],
      "execution_count": 0,
      "outputs": [
        {
          "output_type": "execute_result",
          "data": {
            "text/plain": [
              "220"
            ]
          },
          "metadata": {
            "tags": []
          },
          "execution_count": 29
        }
      ]
    },
    {
      "cell_type": "markdown",
      "metadata": {
        "id": "WYXbn0A6k5k0",
        "colab_type": "text"
      },
      "source": [
        "## 대화창 실습 : 단위행렬에 대한 행렬 곱"
      ]
    },
    {
      "cell_type": "code",
      "metadata": {
        "colab_type": "code",
        "outputId": "8c3c836b-022d-4b48-c68b-c95655e79da1",
        "id": "q8BlrdNTk212",
        "colab": {
          "base_uri": "https://localhost:8080/",
          "height": 52
        }
      },
      "source": [
        "a = [[1, 2], [3, 4]]\n",
        "b = [[1, 0], [0, 1]] # b는 단위행렬\n",
        "np.matmul(a, b) # a행렬과 단위행렬 b의 곱의 결과"
      ],
      "execution_count": 0,
      "outputs": [
        {
          "output_type": "execute_result",
          "data": {
            "text/plain": [
              "array([[1, 2],\n",
              "       [3, 4]])"
            ]
          },
          "metadata": {
            "tags": []
          },
          "execution_count": 31
        }
      ]
    },
    {
      "cell_type": "markdown",
      "metadata": {
        "id": "lFpkkCiemaXI",
        "colab_type": "text"
      },
      "source": [
        "## 대화창 실습 : 2차원 ndarray의 덧셈, 뺄셈, 곱셈, 나눗셈, 제곱 연산"
      ]
    },
    {
      "cell_type": "code",
      "metadata": {
        "id": "pHKVRdLLmaXJ",
        "colab_type": "code",
        "outputId": "0523fc02-485c-4e69-dc9a-257da6fc641c",
        "colab": {
          "base_uri": "https://localhost:8080/",
          "height": 52
        }
      },
      "source": [
        "a = np.array([[1, 2], [3, 4]])\n",
        "a + 1"
      ],
      "execution_count": 0,
      "outputs": [
        {
          "output_type": "execute_result",
          "data": {
            "text/plain": [
              "array([[2, 3],\n",
              "       [4, 5]])"
            ]
          },
          "metadata": {
            "tags": []
          },
          "execution_count": 32
        }
      ]
    },
    {
      "cell_type": "code",
      "metadata": {
        "id": "5qqhs3_hmaXM",
        "colab_type": "code",
        "outputId": "7c5e2f1a-0325-460c-e7a9-83646cee2f7b",
        "colab": {
          "base_uri": "https://localhost:8080/",
          "height": 52
        }
      },
      "source": [
        "a - 1"
      ],
      "execution_count": 0,
      "outputs": [
        {
          "output_type": "execute_result",
          "data": {
            "text/plain": [
              "array([[0, 1],\n",
              "       [2, 3]])"
            ]
          },
          "metadata": {
            "tags": []
          },
          "execution_count": 33
        }
      ]
    },
    {
      "cell_type": "code",
      "metadata": {
        "id": "X_5NCQREmaXP",
        "colab_type": "code",
        "outputId": "e66420ea-09d5-4860-a05c-06054cf7131b",
        "colab": {
          "base_uri": "https://localhost:8080/",
          "height": 52
        }
      },
      "source": [
        "a * 100"
      ],
      "execution_count": 0,
      "outputs": [
        {
          "output_type": "execute_result",
          "data": {
            "text/plain": [
              "array([[100, 200],\n",
              "       [300, 400]])"
            ]
          },
          "metadata": {
            "tags": []
          },
          "execution_count": 34
        }
      ]
    },
    {
      "cell_type": "code",
      "metadata": {
        "id": "eLbH4YfImaXS",
        "colab_type": "code",
        "outputId": "a1fb0f96-eae1-42e1-eeac-f63617b50b59",
        "colab": {
          "base_uri": "https://localhost:8080/",
          "height": 52
        }
      },
      "source": [
        "a / 100"
      ],
      "execution_count": 0,
      "outputs": [
        {
          "output_type": "execute_result",
          "data": {
            "text/plain": [
              "array([[0.01, 0.02],\n",
              "       [0.03, 0.04]])"
            ]
          },
          "metadata": {
            "tags": []
          },
          "execution_count": 35
        }
      ]
    },
    {
      "cell_type": "code",
      "metadata": {
        "id": "4CtqLAiTmaXU",
        "colab_type": "code",
        "outputId": "b62f49e8-d81e-4c68-8ca3-2127d9eecedd",
        "colab": {
          "base_uri": "https://localhost:8080/",
          "height": 52
        }
      },
      "source": [
        "a ** 2"
      ],
      "execution_count": 0,
      "outputs": [
        {
          "output_type": "execute_result",
          "data": {
            "text/plain": [
              "array([[ 1,  4],\n",
              "       [ 9, 16]])"
            ]
          },
          "metadata": {
            "tags": []
          },
          "execution_count": 36
        }
      ]
    },
    {
      "cell_type": "markdown",
      "metadata": {
        "id": "oUNFFJLRmaXX",
        "colab_type": "text"
      },
      "source": [
        "## 대화창 실습 : 초기값을 가지는 배열의 생성"
      ]
    },
    {
      "cell_type": "code",
      "metadata": {
        "id": "w1qRATV8maXX",
        "colab_type": "code",
        "colab": {}
      },
      "source": [
        "np.zeros((2, 3))"
      ],
      "execution_count": 0,
      "outputs": []
    },
    {
      "cell_type": "code",
      "metadata": {
        "id": "Nv4vLlhSmaXb",
        "colab_type": "code",
        "colab": {}
      },
      "source": [
        "np.ones((2, 3))"
      ],
      "execution_count": 0,
      "outputs": []
    },
    {
      "cell_type": "code",
      "metadata": {
        "id": "K2xt8oIdmaXd",
        "colab_type": "code",
        "colab": {}
      },
      "source": [
        "np.full((2, 3), 100)"
      ],
      "execution_count": 0,
      "outputs": []
    },
    {
      "cell_type": "code",
      "metadata": {
        "id": "vKQfR3wOmaXg",
        "colab_type": "code",
        "colab": {}
      },
      "source": [
        "np.eye(3)"
      ],
      "execution_count": 0,
      "outputs": []
    },
    {
      "cell_type": "code",
      "metadata": {
        "id": "VfzwHllBmaXi",
        "colab_type": "code",
        "colab": {}
      },
      "source": [
        "np.random.random((2, 3))"
      ],
      "execution_count": 0,
      "outputs": []
    },
    {
      "cell_type": "markdown",
      "metadata": {
        "id": "6TTJE-Y-maXl",
        "colab_type": "text"
      },
      "source": [
        "## 대화창 실습 : arange() 함수를 이용한 배열 생성"
      ]
    },
    {
      "cell_type": "code",
      "metadata": {
        "id": "qU2ZS2zGmaXl",
        "colab_type": "code",
        "colab": {}
      },
      "source": [
        "np.arange(0, 10)"
      ],
      "execution_count": 0,
      "outputs": []
    },
    {
      "cell_type": "code",
      "metadata": {
        "id": "RuzCJpcymaXn",
        "colab_type": "code",
        "colab": {}
      },
      "source": [
        "np.arange(0, 10, 2)"
      ],
      "execution_count": 0,
      "outputs": []
    },
    {
      "cell_type": "code",
      "metadata": {
        "id": "BllCIqy7maXs",
        "colab_type": "code",
        "colab": {}
      },
      "source": [
        "np.arange(0, 10, 3)"
      ],
      "execution_count": 0,
      "outputs": []
    },
    {
      "cell_type": "code",
      "metadata": {
        "id": "XukzyMe1maXy",
        "colab_type": "code",
        "colab": {}
      },
      "source": [
        "np.arange(0.0, 1.0, 0.2)"
      ],
      "execution_count": 0,
      "outputs": []
    },
    {
      "cell_type": "markdown",
      "metadata": {
        "id": "1NP8r9dQmaX1",
        "colab_type": "text"
      },
      "source": [
        "## 대화창 실습 : linspace() 함수를 이용한 배열 생성"
      ]
    },
    {
      "cell_type": "code",
      "metadata": {
        "id": "B2PQnO73maX2",
        "colab_type": "code",
        "outputId": "028d263b-16e4-477a-f59b-2facd473305b",
        "colab": {
          "base_uri": "https://localhost:8080/",
          "height": 34
        }
      },
      "source": [
        "np.linspace(0, 10, 5)"
      ],
      "execution_count": 0,
      "outputs": [
        {
          "output_type": "execute_result",
          "data": {
            "text/plain": [
              "array([ 0. ,  2.5,  5. ,  7.5, 10. ])"
            ]
          },
          "metadata": {
            "tags": []
          },
          "execution_count": 17
        }
      ]
    },
    {
      "cell_type": "code",
      "metadata": {
        "id": "PNkXWsVKmaX4",
        "colab_type": "code",
        "outputId": "a4ace02d-4dc0-4bd9-dd87-fc9663a4d0ef",
        "colab": {
          "base_uri": "https://localhost:8080/",
          "height": 34
        }
      },
      "source": [
        "np.linspace(0, 10, 4)"
      ],
      "execution_count": 0,
      "outputs": [
        {
          "output_type": "execute_result",
          "data": {
            "text/plain": [
              "array([ 0.        ,  3.33333333,  6.66666667, 10.        ])"
            ]
          },
          "metadata": {
            "tags": []
          },
          "execution_count": 18
        }
      ]
    },
    {
      "cell_type": "markdown",
      "metadata": {
        "id": "6v5dZXsTmaX6",
        "colab_type": "text"
      },
      "source": [
        "## 대화창 실습 : reshape()을 이용한 배열의 재구성"
      ]
    },
    {
      "cell_type": "code",
      "metadata": {
        "id": "nSYqiFeimaX7",
        "colab_type": "code",
        "outputId": "a18a4582-c4c4-4ae4-aeca-4045bc242a97",
        "colab": {
          "base_uri": "https://localhost:8080/",
          "height": 54
        }
      },
      "source": [
        "np.arange(0,10).reshape(2,5)"
      ],
      "execution_count": 0,
      "outputs": [
        {
          "output_type": "execute_result",
          "data": {
            "text/plain": [
              "array([[0, 1, 2, 3, 4],\n",
              "       [5, 6, 7, 8, 9]])"
            ]
          },
          "metadata": {
            "tags": []
          },
          "execution_count": 2
        }
      ]
    },
    {
      "cell_type": "code",
      "metadata": {
        "id": "JfSdgN6GmaYB",
        "colab_type": "code",
        "outputId": "c94d7e0a-64cb-4b7f-e482-eb34f43adfb6",
        "colab": {
          "base_uri": "https://localhost:8080/",
          "height": 108
        }
      },
      "source": [
        "np.arange(0,10).reshape(5,2)"
      ],
      "execution_count": 0,
      "outputs": [
        {
          "output_type": "execute_result",
          "data": {
            "text/plain": [
              "array([[0, 1],\n",
              "       [2, 3],\n",
              "       [4, 5],\n",
              "       [6, 7],\n",
              "       [8, 9]])"
            ]
          },
          "metadata": {
            "tags": []
          },
          "execution_count": 3
        }
      ]
    },
    {
      "cell_type": "code",
      "metadata": {
        "id": "JrXhsAbrmaYE",
        "colab_type": "code",
        "outputId": "1a0e8bcd-3edd-4e48-ba4e-5e3e1be9e1a5",
        "colab": {
          "base_uri": "https://localhost:8080/",
          "height": 173
        }
      },
      "source": [
        "np.arange(0,10).reshape(3,3)"
      ],
      "execution_count": 0,
      "outputs": [
        {
          "output_type": "error",
          "ename": "ValueError",
          "evalue": "ignored",
          "traceback": [
            "\u001b[0;31m---------------------------------------------------------------------------\u001b[0m",
            "\u001b[0;31mValueError\u001b[0m                                Traceback (most recent call last)",
            "\u001b[0;32m<ipython-input-4-3e4e3fa4eda0>\u001b[0m in \u001b[0;36m<module>\u001b[0;34m()\u001b[0m\n\u001b[0;32m----> 1\u001b[0;31m \u001b[0mnp\u001b[0m\u001b[0;34m.\u001b[0m\u001b[0marange\u001b[0m\u001b[0;34m(\u001b[0m\u001b[0;36m0\u001b[0m\u001b[0;34m,\u001b[0m\u001b[0;36m10\u001b[0m\u001b[0;34m)\u001b[0m\u001b[0;34m.\u001b[0m\u001b[0mreshape\u001b[0m\u001b[0;34m(\u001b[0m\u001b[0;36m3\u001b[0m\u001b[0;34m,\u001b[0m\u001b[0;36m3\u001b[0m\u001b[0;34m)\u001b[0m\u001b[0;34m\u001b[0m\u001b[0;34m\u001b[0m\u001b[0m\n\u001b[0m",
            "\u001b[0;31mValueError\u001b[0m: cannot reshape array of size 10 into shape (3,3)"
          ]
        }
      ]
    },
    {
      "cell_type": "markdown",
      "metadata": {
        "id": "F1ieK0AqmaYH",
        "colab_type": "text"
      },
      "source": [
        "## 대화창 실습 : 다른 차원으로의 reshape() 실습"
      ]
    },
    {
      "cell_type": "code",
      "metadata": {
        "id": "lwghPFsfmaYH",
        "colab_type": "code",
        "outputId": "76b56526-30df-4d39-eecc-df38b8d7ab9f",
        "colab": {
          "base_uri": "https://localhost:8080/",
          "height": 290
        }
      },
      "source": [
        "np.arange(0, 24).reshape(4, 3, 2)"
      ],
      "execution_count": 0,
      "outputs": [
        {
          "output_type": "execute_result",
          "data": {
            "text/plain": [
              "array([[[ 0,  1],\n",
              "        [ 2,  3],\n",
              "        [ 4,  5]],\n",
              "\n",
              "       [[ 6,  7],\n",
              "        [ 8,  9],\n",
              "        [10, 11]],\n",
              "\n",
              "       [[12, 13],\n",
              "        [14, 15],\n",
              "        [16, 17]],\n",
              "\n",
              "       [[18, 19],\n",
              "        [20, 21],\n",
              "        [22, 23]]])"
            ]
          },
          "metadata": {
            "tags": []
          },
          "execution_count": 5
        }
      ]
    },
    {
      "cell_type": "markdown",
      "metadata": {
        "id": "sCtfgipEQKMn",
        "colab_type": "text"
      },
      "source": [
        "## 대화창 실습 : transpose() 함수"
      ]
    },
    {
      "cell_type": "code",
      "metadata": {
        "id": "QSVMF5YfQRI-",
        "colab_type": "code",
        "outputId": "97ae4bc4-78d4-4a2c-8960-4913cc428cd4",
        "colab": {
          "base_uri": "https://localhost:8080/",
          "height": 72
        }
      },
      "source": [
        "a = np.arange(6).reshape(3, 2)\n",
        "a"
      ],
      "execution_count": 0,
      "outputs": [
        {
          "output_type": "execute_result",
          "data": {
            "text/plain": [
              "array([[0, 1],\n",
              "       [2, 3],\n",
              "       [4, 5]])"
            ]
          },
          "metadata": {
            "tags": []
          },
          "execution_count": 6
        }
      ]
    },
    {
      "cell_type": "code",
      "metadata": {
        "id": "jKzkbGvtQgMK",
        "colab_type": "code",
        "outputId": "07196822-264a-4266-8073-f66cd1e0bdf4",
        "colab": {
          "base_uri": "https://localhost:8080/",
          "height": 54
        }
      },
      "source": [
        "np.transpose(a)"
      ],
      "execution_count": 0,
      "outputs": [
        {
          "output_type": "execute_result",
          "data": {
            "text/plain": [
              "array([[0, 2, 4],\n",
              "       [1, 3, 5]])"
            ]
          },
          "metadata": {
            "tags": []
          },
          "execution_count": 7
        }
      ]
    },
    {
      "cell_type": "markdown",
      "metadata": {
        "id": "ivtTBYM4maYK",
        "colab_type": "text"
      },
      "source": [
        "## 대화창 실습 : sum 함수와 axis에 따른 원소의 합"
      ]
    },
    {
      "cell_type": "code",
      "metadata": {
        "id": "fO6BSRglZbFQ",
        "colab_type": "code",
        "outputId": "43f8ffaa-7c23-44eb-b217-87684665d5fa",
        "colab": {
          "base_uri": "https://localhost:8080/",
          "height": 72
        }
      },
      "source": [
        "a = np.arange(0,6).reshape(3,2)\n",
        "a"
      ],
      "execution_count": 0,
      "outputs": [
        {
          "output_type": "execute_result",
          "data": {
            "text/plain": [
              "array([[0, 1],\n",
              "       [2, 3],\n",
              "       [4, 5]])"
            ]
          },
          "metadata": {
            "tags": []
          },
          "execution_count": 8
        }
      ]
    },
    {
      "cell_type": "code",
      "metadata": {
        "id": "g1VFFw82maYK",
        "colab_type": "code",
        "outputId": "8a522495-566c-4388-be46-bed2711224af",
        "colab": {
          "base_uri": "https://localhost:8080/",
          "height": 35
        }
      },
      "source": [
        "a.sum() # 행렬의 모든 원소의 합"
      ],
      "execution_count": 0,
      "outputs": [
        {
          "output_type": "execute_result",
          "data": {
            "text/plain": [
              "15"
            ]
          },
          "metadata": {
            "tags": []
          },
          "execution_count": 9
        }
      ]
    },
    {
      "cell_type": "code",
      "metadata": {
        "id": "3eX2vj1YmaYN",
        "colab_type": "code",
        "outputId": "c68f5e7e-cc28-44eb-d5e4-b3e2c9dc7ae9",
        "colab": {
          "base_uri": "https://localhost:8080/",
          "height": 35
        }
      },
      "source": [
        "a.sum(axis = 0) # 0축 방향(행 방향) 원소의 합"
      ],
      "execution_count": 0,
      "outputs": [
        {
          "output_type": "execute_result",
          "data": {
            "text/plain": [
              "array([6, 9])"
            ]
          },
          "metadata": {
            "tags": []
          },
          "execution_count": 10
        }
      ]
    },
    {
      "cell_type": "markdown",
      "metadata": {
        "id": "7y9zLz9LmaYQ",
        "colab_type": "text"
      },
      "source": [
        "## 대화창 실습 : 1축 방향 원소의 합"
      ]
    },
    {
      "cell_type": "code",
      "metadata": {
        "id": "TcOHdkdXmaYR",
        "colab_type": "code",
        "outputId": "47c804fe-56e3-40db-eeec-2958b7d5872c",
        "colab": {
          "base_uri": "https://localhost:8080/",
          "height": 34
        }
      },
      "source": [
        "a.sum(axis = 1) # 1축 방향(열 방향) 원소의 합"
      ],
      "execution_count": 0,
      "outputs": [
        {
          "output_type": "execute_result",
          "data": {
            "text/plain": [
              "array([1, 5, 9])"
            ]
          },
          "metadata": {
            "tags": []
          },
          "execution_count": 23
        }
      ]
    },
    {
      "cell_type": "markdown",
      "metadata": {
        "id": "Bysa68_RmaYT",
        "colab_type": "text"
      },
      "source": [
        "## 대화창 실습 : 0축과 1축 방향 원소의 최솟값 최댓값"
      ]
    },
    {
      "cell_type": "code",
      "metadata": {
        "id": "diVYoyFcmaYT",
        "colab_type": "code",
        "colab": {}
      },
      "source": [
        "a.min(axis=0) # 0축 방향 원소의 최솟값"
      ],
      "execution_count": 0,
      "outputs": []
    },
    {
      "cell_type": "code",
      "metadata": {
        "id": "6oX1U8vymaYV",
        "colab_type": "code",
        "colab": {}
      },
      "source": [
        "a.min(axis=1) # 1축 방향 원소의 최솟값"
      ],
      "execution_count": 0,
      "outputs": []
    },
    {
      "cell_type": "code",
      "metadata": {
        "id": "QDbDbF3BmaYY",
        "colab_type": "code",
        "colab": {}
      },
      "source": [
        "a.max(axis=0) # 0축 방향 원소의 최솟값"
      ],
      "execution_count": 0,
      "outputs": []
    },
    {
      "cell_type": "code",
      "metadata": {
        "id": "KXeTlAHMmaYb",
        "colab_type": "code",
        "colab": {}
      },
      "source": [
        "a.max(axis=1) # 1축 방향 원소의 최솟값"
      ],
      "execution_count": 0,
      "outputs": []
    },
    {
      "cell_type": "markdown",
      "metadata": {
        "id": "8xG0l_9tdqR7",
        "colab_type": "text"
      },
      "source": [
        "## 대화창 실습 : ndarray의 insert() 함수"
      ]
    },
    {
      "cell_type": "code",
      "metadata": {
        "id": "v9JD4Uu3dr-g",
        "colab_type": "code",
        "outputId": "8ea21659-f4cf-4915-ce62-d7a028a926db",
        "colab": {
          "base_uri": "https://localhost:8080/",
          "height": 35
        }
      },
      "source": [
        "a = np.array([1, 3, 4])\n",
        "np.insert(a, 1, 2)"
      ],
      "execution_count": 0,
      "outputs": [
        {
          "output_type": "execute_result",
          "data": {
            "text/plain": [
              "array([1, 2, 3, 4])"
            ]
          },
          "metadata": {
            "tags": []
          },
          "execution_count": 11
        }
      ]
    },
    {
      "cell_type": "code",
      "metadata": {
        "id": "6Kb9XxRSd0MK",
        "colab_type": "code",
        "outputId": "0de774e4-49ea-4a33-f3ca-82cc3def02b9",
        "colab": {
          "base_uri": "https://localhost:8080/",
          "height": 90
        }
      },
      "source": [
        "a = np.array([[1, 1], [2, 2], [3, 3]])\n",
        "np.insert(a, 1, 4, axis = 0)"
      ],
      "execution_count": 0,
      "outputs": [
        {
          "output_type": "execute_result",
          "data": {
            "text/plain": [
              "array([[1, 1],\n",
              "       [4, 4],\n",
              "       [2, 2],\n",
              "       [3, 3]])"
            ]
          },
          "metadata": {
            "tags": []
          },
          "execution_count": 12
        }
      ]
    },
    {
      "cell_type": "code",
      "metadata": {
        "id": "wn9waDu5e2F2",
        "colab_type": "code",
        "outputId": "f33341b3-81ea-48c2-ad3f-538c6aa14cd4",
        "colab": {
          "base_uri": "https://localhost:8080/",
          "height": 90
        }
      },
      "source": [
        "np.insert(a, 1, (4, 4), axis = 0)"
      ],
      "execution_count": 0,
      "outputs": [
        {
          "output_type": "execute_result",
          "data": {
            "text/plain": [
              "array([[1, 1],\n",
              "       [4, 4],\n",
              "       [2, 2],\n",
              "       [3, 3]])"
            ]
          },
          "metadata": {
            "tags": []
          },
          "execution_count": 13
        }
      ]
    },
    {
      "cell_type": "code",
      "metadata": {
        "id": "E8nHqMIfd6IB",
        "colab_type": "code",
        "outputId": "3f40c14d-de70-4953-9de8-9a1e79eeb39b",
        "colab": {
          "base_uri": "https://localhost:8080/",
          "height": 72
        }
      },
      "source": [
        "np.insert(a, 1, 4, axis = 1)"
      ],
      "execution_count": 0,
      "outputs": [
        {
          "output_type": "execute_result",
          "data": {
            "text/plain": [
              "array([[1, 4, 1],\n",
              "       [2, 4, 2],\n",
              "       [3, 4, 3]])"
            ]
          },
          "metadata": {
            "tags": []
          },
          "execution_count": 14
        }
      ]
    },
    {
      "cell_type": "markdown",
      "metadata": {
        "id": "qOEq-IRbmaYd",
        "colab_type": "text"
      },
      "source": [
        "## 대화창 실습 : 1차원 배열의 인덱싱하기"
      ]
    },
    {
      "cell_type": "code",
      "metadata": {
        "id": "evunx_MqmaYd",
        "colab_type": "code",
        "outputId": "b8c80321-27e6-4672-bf39-dfb58d8c5846",
        "colab": {
          "base_uri": "https://localhost:8080/",
          "height": 35
        }
      },
      "source": [
        "a = np.array([1, 2, 3])\n",
        "print(a[0], a[1], a[2])"
      ],
      "execution_count": 0,
      "outputs": [
        {
          "output_type": "stream",
          "text": [
            "1 2 3\n"
          ],
          "name": "stdout"
        }
      ]
    },
    {
      "cell_type": "code",
      "metadata": {
        "id": "Z-j3F8yymaYf",
        "colab_type": "code",
        "outputId": "098cc286-26f5-495e-d5c5-68bb47e033e5",
        "colab": {
          "base_uri": "https://localhost:8080/",
          "height": 35
        }
      },
      "source": [
        "print(a[-1], a[-2], a[-3])"
      ],
      "execution_count": 0,
      "outputs": [
        {
          "output_type": "stream",
          "text": [
            "3 2 1\n"
          ],
          "name": "stdout"
        }
      ]
    },
    {
      "cell_type": "markdown",
      "metadata": {
        "id": "m7gkfbFCmaYi",
        "colab_type": "text"
      },
      "source": [
        "## 대화창 실습 : 1차원 배열에서 여러 개의 원소를 인덱싱하기"
      ]
    },
    {
      "cell_type": "code",
      "metadata": {
        "id": "Y35YuGX5maYi",
        "colab_type": "code",
        "outputId": "ed877c73-12fd-4e12-b677-b8bfa92b56aa",
        "colab": {
          "base_uri": "https://localhost:8080/",
          "height": 35
        }
      },
      "source": [
        "a = np.array([1, 2, 3, 4])\n",
        "print(a[np.array([0, 1])])"
      ],
      "execution_count": 0,
      "outputs": [
        {
          "output_type": "stream",
          "text": [
            "[1 2]\n"
          ],
          "name": "stdout"
        }
      ]
    },
    {
      "cell_type": "code",
      "metadata": {
        "id": "-AklPcmjmaYk",
        "colab_type": "code",
        "outputId": "5bd9ceba-9583-4ebd-f0a3-3f6c403d8e6f",
        "colab": {
          "base_uri": "https://localhost:8080/",
          "height": 36
        }
      },
      "source": [
        "print(a[np.array([0, 1, 2])])"
      ],
      "execution_count": 0,
      "outputs": [
        {
          "output_type": "stream",
          "text": [
            "[1 2 3]\n"
          ],
          "name": "stdout"
        }
      ]
    },
    {
      "cell_type": "code",
      "metadata": {
        "id": "StULHVuamaYn",
        "colab_type": "code",
        "outputId": "57e6bf8e-f4ba-4b42-b963-bc0face72fd3",
        "colab": {
          "base_uri": "https://localhost:8080/",
          "height": 36
        }
      },
      "source": [
        "print(a[np.array([0, 1, 3])])"
      ],
      "execution_count": 0,
      "outputs": [
        {
          "output_type": "stream",
          "text": [
            "[1 2 4]\n"
          ],
          "name": "stdout"
        }
      ]
    },
    {
      "cell_type": "code",
      "metadata": {
        "id": "1flVMJSZmaYu",
        "colab_type": "code",
        "outputId": "a53ef7f1-ba66-4db7-82f1-6e6e6592e7f9",
        "colab": {
          "base_uri": "https://localhost:8080/",
          "height": 36
        }
      },
      "source": [
        "print(a[np.array([1, 1, 1, 1])])"
      ],
      "execution_count": 0,
      "outputs": [
        {
          "output_type": "stream",
          "text": [
            "[2 2 2 2]\n"
          ],
          "name": "stdout"
        }
      ]
    },
    {
      "cell_type": "markdown",
      "metadata": {
        "id": "xOqUyiEHduj8",
        "colab_type": "text"
      },
      "source": [
        "## 대화창 실습 : 리스트와 슬라이싱"
      ]
    },
    {
      "cell_type": "code",
      "metadata": {
        "id": "uit_4Dh-dz1W",
        "colab_type": "code",
        "outputId": "1a9a6cb5-9ab0-4b48-ca64-1477878a27f0",
        "colab": {
          "base_uri": "https://localhost:8080/",
          "height": 36
        }
      },
      "source": [
        "aList = [10, 20, 30, 40, 50, 60, 70, 80]\n",
        "aList[1:5]"
      ],
      "execution_count": 0,
      "outputs": [
        {
          "output_type": "execute_result",
          "data": {
            "text/plain": [
              "[20, 30, 40, 50]"
            ]
          },
          "metadata": {
            "tags": []
          },
          "execution_count": 32
        }
      ]
    },
    {
      "cell_type": "markdown",
      "metadata": {
        "id": "xWXaHLZId5ZI",
        "colab_type": "text"
      },
      "source": [
        "## 대화창 실습 : 넘파이의 슬라이싱"
      ]
    },
    {
      "cell_type": "code",
      "metadata": {
        "id": "Xd3tmgBWZarG",
        "colab_type": "code",
        "outputId": "47fb26c6-079a-4ad4-a819-826465885797",
        "colab": {
          "base_uri": "https://localhost:8080/",
          "height": 36
        }
      },
      "source": [
        "a = np.array([10, 20, 30, 40, 50, 60, 70, 80])\n",
        "a[1:5]     # 슬라이싱 구간 [시작:끝] 인덱스"
      ],
      "execution_count": 0,
      "outputs": [
        {
          "output_type": "execute_result",
          "data": {
            "text/plain": [
              "array([20, 30, 40, 50])"
            ]
          },
          "metadata": {
            "tags": []
          },
          "execution_count": 37
        }
      ]
    },
    {
      "cell_type": "code",
      "metadata": {
        "id": "5oUsaCmgew6r",
        "colab_type": "code",
        "outputId": "85a1d90a-166a-41f1-f32e-9eb05caced7b",
        "colab": {
          "base_uri": "https://localhost:8080/",
          "height": 36
        }
      },
      "source": [
        "a[1:]"
      ],
      "execution_count": 0,
      "outputs": [
        {
          "output_type": "execute_result",
          "data": {
            "text/plain": [
              "array([20, 30, 40, 50, 60, 70, 80])"
            ]
          },
          "metadata": {
            "tags": []
          },
          "execution_count": 38
        }
      ]
    },
    {
      "cell_type": "code",
      "metadata": {
        "id": "tcQa74o2e5oB",
        "colab_type": "code",
        "outputId": "2bc5b436-10a0-41ee-d8f0-1337df249eea",
        "colab": {
          "base_uri": "https://localhost:8080/",
          "height": 36
        }
      },
      "source": [
        "a[:]        # 전체를 슬라이싱"
      ],
      "execution_count": 0,
      "outputs": [
        {
          "output_type": "execute_result",
          "data": {
            "text/plain": [
              "array([10, 20, 30, 40, 50, 60, 70, 80])"
            ]
          },
          "metadata": {
            "tags": []
          },
          "execution_count": 39
        }
      ]
    },
    {
      "cell_type": "code",
      "metadata": {
        "id": "-sznXNrrgHJ_",
        "colab_type": "code",
        "outputId": "d180aaed-30aa-4aa5-e232-0c371c4ef0fe",
        "colab": {
          "base_uri": "https://localhost:8080/",
          "height": 36
        }
      },
      "source": [
        "a[::2]      # 양수 2의 스텝값"
      ],
      "execution_count": 0,
      "outputs": [
        {
          "output_type": "execute_result",
          "data": {
            "text/plain": [
              "array([10, 30, 50, 70])"
            ]
          },
          "metadata": {
            "tags": []
          },
          "execution_count": 40
        }
      ]
    },
    {
      "cell_type": "code",
      "metadata": {
        "id": "Z4IuHN6kgWhv",
        "colab_type": "code",
        "outputId": "87d87494-d27c-4e36-a47a-d85d44933eb7",
        "colab": {
          "base_uri": "https://localhost:8080/",
          "height": 36
        }
      },
      "source": [
        "a[::-1]     # 음수 스텝값"
      ],
      "execution_count": 0,
      "outputs": [
        {
          "output_type": "execute_result",
          "data": {
            "text/plain": [
              "array([80, 70, 60, 50, 40, 30, 20, 10])"
            ]
          },
          "metadata": {
            "tags": []
          },
          "execution_count": 41
        }
      ]
    },
    {
      "cell_type": "markdown",
      "metadata": {
        "id": "G2H5jB89maYx",
        "colab_type": "text"
      },
      "source": [
        "## 대화창 실습 : 2차원 배열의 인덱스"
      ]
    },
    {
      "cell_type": "code",
      "metadata": {
        "id": "81tMJdaLmaYx",
        "colab_type": "code",
        "outputId": "f1383c8c-bd1f-4594-c488-bd1b54a7959d",
        "colab": {
          "base_uri": "https://localhost:8080/",
          "height": 70
        }
      },
      "source": [
        "a = np.arange(0, 6).reshape(3, 2)\n",
        "a"
      ],
      "execution_count": 0,
      "outputs": [
        {
          "output_type": "execute_result",
          "data": {
            "text/plain": [
              "array([[0, 1],\n",
              "       [2, 3],\n",
              "       [4, 5]])"
            ]
          },
          "metadata": {
            "tags": []
          },
          "execution_count": 37
        }
      ]
    },
    {
      "cell_type": "code",
      "metadata": {
        "id": "ArdEw084maYz",
        "colab_type": "code",
        "outputId": "e9b743d9-f1d9-4e57-9c1d-abc7832c4440",
        "colab": {
          "base_uri": "https://localhost:8080/",
          "height": 35
        }
      },
      "source": [
        "print(a[0, 0])"
      ],
      "execution_count": 0,
      "outputs": [
        {
          "output_type": "stream",
          "text": [
            "0\n"
          ],
          "name": "stdout"
        }
      ]
    },
    {
      "cell_type": "code",
      "metadata": {
        "id": "eCXLDlknmaY2",
        "colab_type": "code",
        "outputId": "9f58b747-d0ef-4b8b-8f50-1ac523798ecc",
        "colab": {
          "base_uri": "https://localhost:8080/",
          "height": 35
        }
      },
      "source": [
        "print(a[0, 1])"
      ],
      "execution_count": 0,
      "outputs": [
        {
          "output_type": "stream",
          "text": [
            "1\n"
          ],
          "name": "stdout"
        }
      ]
    },
    {
      "cell_type": "code",
      "metadata": {
        "id": "EddQAuwPmaY5",
        "colab_type": "code",
        "outputId": "bbbd7696-c149-4bfa-8ab6-8b16118a9cb9",
        "colab": {
          "base_uri": "https://localhost:8080/",
          "height": 168
        }
      },
      "source": [
        "print(a[0, 2])"
      ],
      "execution_count": 0,
      "outputs": [
        {
          "output_type": "error",
          "ename": "IndexError",
          "evalue": "ignored",
          "traceback": [
            "\u001b[0;31m---------------------------------------------------------------------------\u001b[0m",
            "\u001b[0;31mIndexError\u001b[0m                                Traceback (most recent call last)",
            "\u001b[0;32m<ipython-input-40-0026e4e78f27>\u001b[0m in \u001b[0;36m<module>\u001b[0;34m()\u001b[0m\n\u001b[0;32m----> 1\u001b[0;31m \u001b[0mprint\u001b[0m\u001b[0;34m(\u001b[0m\u001b[0ma\u001b[0m\u001b[0;34m[\u001b[0m\u001b[0;36m0\u001b[0m\u001b[0;34m,\u001b[0m \u001b[0;36m2\u001b[0m\u001b[0;34m]\u001b[0m\u001b[0;34m)\u001b[0m\u001b[0;34m\u001b[0m\u001b[0;34m\u001b[0m\u001b[0m\n\u001b[0m",
            "\u001b[0;31mIndexError\u001b[0m: index 2 is out of bounds for axis 1 with size 2"
          ]
        }
      ]
    },
    {
      "cell_type": "markdown",
      "metadata": {
        "id": "oVVuGWYNmaY6",
        "colab_type": "text"
      },
      "source": [
        "## 대화창 실습 : 3차원 배열의 인덱스"
      ]
    },
    {
      "cell_type": "code",
      "metadata": {
        "id": "2Q1IjEBPmaY7",
        "colab_type": "code",
        "outputId": "ce28c3d3-3c5d-400c-fca7-47a807a67122",
        "colab": {
          "base_uri": "https://localhost:8080/",
          "height": 283
        }
      },
      "source": [
        "a = np.arange(0, 24).reshape(4, 3, 2)\n",
        "a"
      ],
      "execution_count": 0,
      "outputs": [
        {
          "output_type": "execute_result",
          "data": {
            "text/plain": [
              "array([[[ 0,  1],\n",
              "        [ 2,  3],\n",
              "        [ 4,  5]],\n",
              "\n",
              "       [[ 6,  7],\n",
              "        [ 8,  9],\n",
              "        [10, 11]],\n",
              "\n",
              "       [[12, 13],\n",
              "        [14, 15],\n",
              "        [16, 17]],\n",
              "\n",
              "       [[18, 19],\n",
              "        [20, 21],\n",
              "        [22, 23]]])"
            ]
          },
          "metadata": {
            "tags": []
          },
          "execution_count": 41
        }
      ]
    },
    {
      "cell_type": "code",
      "metadata": {
        "id": "LumM-uQNmaY-",
        "colab_type": "code",
        "outputId": "3e59d0df-8025-43f6-bf36-35399ae5911a",
        "colab": {
          "base_uri": "https://localhost:8080/",
          "height": 35
        }
      },
      "source": [
        "print(a[1, 2, 1])"
      ],
      "execution_count": 0,
      "outputs": [
        {
          "output_type": "stream",
          "text": [
            "11\n"
          ],
          "name": "stdout"
        }
      ]
    },
    {
      "cell_type": "markdown",
      "metadata": {
        "id": "jg4ezFSkJw8T",
        "colab_type": "text"
      },
      "source": [
        "## 대화창 실습 : 3차원 배열의 인덱스와 concatenate() 함수"
      ]
    },
    {
      "cell_type": "code",
      "metadata": {
        "id": "_DNHYQ6ZJ0q6",
        "colab_type": "code",
        "outputId": "9e185a39-9dfd-4e80-c13b-21a61943c3db",
        "colab": {
          "base_uri": "https://localhost:8080/",
          "height": 70
        }
      },
      "source": [
        "a = np.arange(0, 24).reshape(4, 3, 2)\n",
        "a[0]"
      ],
      "execution_count": 0,
      "outputs": [
        {
          "output_type": "execute_result",
          "data": {
            "text/plain": [
              "array([[0, 1],\n",
              "       [2, 3],\n",
              "       [4, 5]])"
            ]
          },
          "metadata": {
            "tags": []
          },
          "execution_count": 43
        }
      ]
    },
    {
      "cell_type": "code",
      "metadata": {
        "id": "B7rN995hJ3-V",
        "colab_type": "code",
        "outputId": "f50c4506-c006-49d0-bded-4de80032ec42",
        "colab": {
          "base_uri": "https://localhost:8080/",
          "height": 35
        }
      },
      "source": [
        "a[0, 0]"
      ],
      "execution_count": 0,
      "outputs": [
        {
          "output_type": "execute_result",
          "data": {
            "text/plain": [
              "array([0, 1])"
            ]
          },
          "metadata": {
            "tags": []
          },
          "execution_count": 44
        }
      ]
    },
    {
      "cell_type": "code",
      "metadata": {
        "id": "zYjEdyVjJ6jK",
        "colab_type": "code",
        "outputId": "1e13b268-9989-4ad9-b209-ed39afc18b5f",
        "colab": {
          "base_uri": "https://localhost:8080/",
          "height": 35
        }
      },
      "source": [
        "a[0, 1]"
      ],
      "execution_count": 0,
      "outputs": [
        {
          "output_type": "execute_result",
          "data": {
            "text/plain": [
              "array([2, 3])"
            ]
          },
          "metadata": {
            "tags": []
          },
          "execution_count": 45
        }
      ]
    },
    {
      "cell_type": "code",
      "metadata": {
        "id": "SWzlO6ZiJ_W2",
        "colab_type": "code",
        "outputId": "0cf79cc9-eb45-43dc-952f-702ce284b00e",
        "colab": {
          "base_uri": "https://localhost:8080/",
          "height": 35
        }
      },
      "source": [
        "a[0, 2]"
      ],
      "execution_count": 0,
      "outputs": [
        {
          "output_type": "execute_result",
          "data": {
            "text/plain": [
              "array([4, 5])"
            ]
          },
          "metadata": {
            "tags": []
          },
          "execution_count": 46
        }
      ]
    },
    {
      "cell_type": "code",
      "metadata": {
        "id": "YOPCz7J9KCMg",
        "colab_type": "code",
        "outputId": "0fd377ec-59fb-47db-9901-6bbbb8d8b337",
        "colab": {
          "base_uri": "https://localhost:8080/",
          "height": 35
        }
      },
      "source": [
        "np.concatenate((a[0, 0], a[0, 2]), axis=0)"
      ],
      "execution_count": 0,
      "outputs": [
        {
          "output_type": "execute_result",
          "data": {
            "text/plain": [
              "array([0, 1, 4, 5])"
            ]
          },
          "metadata": {
            "tags": []
          },
          "execution_count": 47
        }
      ]
    },
    {
      "cell_type": "markdown",
      "metadata": {
        "colab_type": "text",
        "id": "-vK10BXRlbpZ"
      },
      "source": [
        "# 2차원 배열의 슬라이싱"
      ]
    },
    {
      "cell_type": "code",
      "metadata": {
        "colab_type": "code",
        "outputId": "29581cf1-7c9c-4330-ef93-cdf3fb2283a3",
        "id": "oG57iWnVlbpX",
        "colab": {
          "base_uri": "https://localhost:8080/",
          "height": 73
        }
      },
      "source": [
        "a = np.arange(0, 9).reshape(3, 3)\n",
        "print(a)"
      ],
      "execution_count": 0,
      "outputs": [
        {
          "output_type": "stream",
          "text": [
            "[[0 1 2]\n",
            " [3 4 5]\n",
            " [6 7 8]]\n"
          ],
          "name": "stdout"
        }
      ]
    },
    {
      "cell_type": "code",
      "metadata": {
        "colab_type": "code",
        "outputId": "1042cba2-6332-4f75-f057-877107eabe27",
        "id": "GFUR-3NUlbpV",
        "colab": {
          "base_uri": "https://localhost:8080/",
          "height": 36
        }
      },
      "source": [
        "print(a[0])"
      ],
      "execution_count": 0,
      "outputs": [
        {
          "output_type": "stream",
          "text": [
            "[0 1 2]\n"
          ],
          "name": "stdout"
        }
      ]
    },
    {
      "cell_type": "code",
      "metadata": {
        "colab_type": "code",
        "outputId": "698f5273-c3eb-4479-be7b-5af262369899",
        "id": "x7UoQxyDlbpS",
        "colab": {
          "base_uri": "https://localhost:8080/",
          "height": 36
        }
      },
      "source": [
        "print(a[0, :])"
      ],
      "execution_count": 0,
      "outputs": [
        {
          "output_type": "stream",
          "text": [
            "[0 1 2]\n"
          ],
          "name": "stdout"
        }
      ]
    },
    {
      "cell_type": "code",
      "metadata": {
        "colab_type": "code",
        "outputId": "ea216de0-5370-4c7e-a507-bb2b77f9b048",
        "id": "1URHbLI9lbpQ",
        "colab": {
          "base_uri": "https://localhost:8080/",
          "height": 36
        }
      },
      "source": [
        "print(a[:, 0])"
      ],
      "execution_count": 0,
      "outputs": [
        {
          "output_type": "stream",
          "text": [
            "[0 3 6]\n"
          ],
          "name": "stdout"
        }
      ]
    },
    {
      "cell_type": "code",
      "metadata": {
        "colab_type": "code",
        "outputId": "855b52f9-39b9-4135-ce1f-8c17a8080c85",
        "id": "3O8opwGGlbpN",
        "colab": {
          "base_uri": "https://localhost:8080/",
          "height": 36
        }
      },
      "source": [
        "print(a[0, 0:2])"
      ],
      "execution_count": 0,
      "outputs": [
        {
          "output_type": "stream",
          "text": [
            "[0 1]\n"
          ],
          "name": "stdout"
        }
      ]
    },
    {
      "cell_type": "code",
      "metadata": {
        "colab_type": "code",
        "outputId": "aff63dcd-b001-4b2d-b4ae-96cf1aa7fdac",
        "id": "dfOkub82lbpK",
        "colab": {
          "base_uri": "https://localhost:8080/",
          "height": 36
        }
      },
      "source": [
        "print(a[0, :2])"
      ],
      "execution_count": 0,
      "outputs": [
        {
          "output_type": "stream",
          "text": [
            "[0 1]\n"
          ],
          "name": "stdout"
        }
      ]
    },
    {
      "cell_type": "code",
      "metadata": {
        "colab_type": "code",
        "outputId": "50985a4e-977c-4ffb-b9c2-40f03e2cd43e",
        "id": "cuCtsOWmlbpE",
        "colab": {
          "base_uri": "https://localhost:8080/",
          "height": 55
        }
      },
      "source": [
        "print(a[:2, :2])"
      ],
      "execution_count": 0,
      "outputs": [
        {
          "output_type": "stream",
          "text": [
            "[[0 1]\n",
            " [3 4]]\n"
          ],
          "name": "stdout"
        }
      ]
    },
    {
      "cell_type": "code",
      "metadata": {
        "colab_type": "code",
        "outputId": "b5baa327-dca7-4a46-d891-27de502575d9",
        "id": "Sfp91jkDlbo_",
        "colab": {
          "base_uri": "https://localhost:8080/",
          "height": 55
        }
      },
      "source": [
        "print(a[1:, 1:])"
      ],
      "execution_count": 0,
      "outputs": [
        {
          "output_type": "stream",
          "text": [
            "[[4 5]\n",
            " [7 8]]\n"
          ],
          "name": "stdout"
        }
      ]
    },
    {
      "cell_type": "code",
      "metadata": {
        "colab_type": "code",
        "outputId": "a0f36b5e-6a4f-470e-b2c5-e685942c9943",
        "id": "Sutn0bQIlbo8",
        "colab": {
          "base_uri": "https://localhost:8080/",
          "height": 36
        }
      },
      "source": [
        "print(a[1, 1:])"
      ],
      "execution_count": 0,
      "outputs": [
        {
          "output_type": "stream",
          "text": [
            "[4 5]\n"
          ],
          "name": "stdout"
        }
      ]
    },
    {
      "cell_type": "code",
      "metadata": {
        "colab_type": "code",
        "outputId": "c1f36be7-7d8d-401a-e37a-90e3910f1eb1",
        "id": "Cg5Ncq0Ylbox",
        "colab": {
          "base_uri": "https://localhost:8080/",
          "height": 36
        }
      },
      "source": [
        "print(a[1:2, 1:])"
      ],
      "execution_count": 0,
      "outputs": [
        {
          "output_type": "stream",
          "text": [
            "[[4 5]]\n"
          ],
          "name": "stdout"
        }
      ]
    },
    {
      "cell_type": "code",
      "metadata": {
        "colab_type": "code",
        "outputId": "8116302e-ceeb-4d28-84f0-a9131235da8f",
        "id": "Va_Ykb7ulboo",
        "colab": {
          "base_uri": "https://localhost:8080/",
          "height": 36
        }
      },
      "source": [
        "a[1, 1:].shape"
      ],
      "execution_count": 0,
      "outputs": [
        {
          "output_type": "execute_result",
          "data": {
            "text/plain": [
              "(2,)"
            ]
          },
          "metadata": {
            "tags": []
          },
          "execution_count": 88
        }
      ]
    },
    {
      "cell_type": "code",
      "metadata": {
        "colab_type": "code",
        "outputId": "eb57dd30-29a2-488e-eb05-7c6b1ade643e",
        "id": "GQ3ejwz1lboi",
        "colab": {
          "base_uri": "https://localhost:8080/",
          "height": 36
        }
      },
      "source": [
        "a[1:2, 1:].shape"
      ],
      "execution_count": 0,
      "outputs": [
        {
          "output_type": "execute_result",
          "data": {
            "text/plain": [
              "(1, 2)"
            ]
          },
          "metadata": {
            "tags": []
          },
          "execution_count": 89
        }
      ]
    },
    {
      "cell_type": "markdown",
      "metadata": {
        "id": "sKC7tdGFmaZA",
        "colab_type": "text"
      },
      "source": [
        "# 코드 11-1 : 선형 연립 방정식 풀이\n",
        "## numpy_linear_ex.py"
      ]
    },
    {
      "cell_type": "code",
      "metadata": {
        "id": "5oOOF7LGmaZA",
        "colab_type": "code",
        "outputId": "96d238ab-345b-45fb-ee03-f2ef0d56edfc",
        "colab": {
          "base_uri": "https://localhost:8080/",
          "height": 35
        }
      },
      "source": [
        "import numpy as np\n",
        "\n",
        "a = np.array([[2, 3], [1, -2]])\n",
        "b = np.array([1, 4])\n",
        "x = np.linalg.solve(a, b)\n",
        "\n",
        "print(x)"
      ],
      "execution_count": 0,
      "outputs": [
        {
          "output_type": "stream",
          "text": [
            "[ 2. -1.]\n"
          ],
          "name": "stdout"
        }
      ]
    },
    {
      "cell_type": "code",
      "metadata": {
        "id": "wk7UUFgLmaZG",
        "colab_type": "code",
        "colab": {}
      },
      "source": [
        "b = np.array([4, 5, 6])\n",
        "b"
      ],
      "execution_count": 0,
      "outputs": []
    },
    {
      "cell_type": "markdown",
      "metadata": {
        "id": "isE_UTyqmaZK",
        "colab_type": "text"
      },
      "source": [
        "## 대화창 실습 : linalg.det() 함수를 사용한 행렬식"
      ]
    },
    {
      "cell_type": "code",
      "metadata": {
        "id": "yarXSBsFmaZK",
        "colab_type": "code",
        "colab": {}
      },
      "source": [
        "a = np.array([[1, 2], [3, 4]])\n",
        "np.linalg.det(a)"
      ],
      "execution_count": 0,
      "outputs": []
    },
    {
      "cell_type": "code",
      "metadata": {
        "id": "qBf8uYrRmaZM",
        "colab_type": "code",
        "colab": {}
      },
      "source": [
        "b = np.array([[1, 2], [3, -6]])\n",
        "np.linalg.det(b)"
      ],
      "execution_count": 0,
      "outputs": []
    },
    {
      "cell_type": "code",
      "metadata": {
        "id": "7WRjcdnAmaZQ",
        "colab_type": "code",
        "colab": {}
      },
      "source": [
        "b = np.array([[1, 2], [1, 2]])\n",
        "np.linalg.det(b)"
      ],
      "execution_count": 0,
      "outputs": []
    },
    {
      "cell_type": "markdown",
      "metadata": {
        "id": "ZFSfitfbrXHq",
        "colab_type": "text"
      },
      "source": [
        "# 이 밑으로는 책 순서와 무관한 코드"
      ]
    },
    {
      "cell_type": "code",
      "metadata": {
        "id": "721sfpN1maZa",
        "colab_type": "code",
        "colab": {}
      },
      "source": [
        "c = a + b\n",
        "c"
      ],
      "execution_count": 0,
      "outputs": []
    },
    {
      "cell_type": "code",
      "metadata": {
        "id": "u8mUPdxnmaZe",
        "colab_type": "code",
        "colab": {}
      },
      "source": [
        "c.shape"
      ],
      "execution_count": 0,
      "outputs": []
    },
    {
      "cell_type": "code",
      "metadata": {
        "id": "VcqWEPI4maZg",
        "colab_type": "code",
        "colab": {}
      },
      "source": [
        "c.ndim"
      ],
      "execution_count": 0,
      "outputs": []
    },
    {
      "cell_type": "code",
      "metadata": {
        "scrolled": true,
        "id": "hbpQyFPsmaZh",
        "colab_type": "code",
        "colab": {}
      },
      "source": [
        "c.size"
      ],
      "execution_count": 0,
      "outputs": []
    },
    {
      "cell_type": "code",
      "metadata": {
        "id": "PgqYGSSHmaZk",
        "colab_type": "code",
        "colab": {}
      },
      "source": [
        "c.itemsize"
      ],
      "execution_count": 0,
      "outputs": []
    },
    {
      "cell_type": "code",
      "metadata": {
        "id": "DWuByqwvmaZl",
        "colab_type": "code",
        "colab": {}
      },
      "source": [
        "d = np.array([2,4,6,8,10])\n",
        "d.size"
      ],
      "execution_count": 0,
      "outputs": []
    },
    {
      "cell_type": "code",
      "metadata": {
        "id": "IPlzIsgWmaZn",
        "colab_type": "code",
        "colab": {}
      },
      "source": [
        "d.itemsize"
      ],
      "execution_count": 0,
      "outputs": []
    },
    {
      "cell_type": "code",
      "metadata": {
        "id": "Ju5noxkEmaZo",
        "colab_type": "code",
        "colab": {}
      },
      "source": [
        "a = np.array([1, 2, 3], dtype='int32')\n",
        "b = np.array([4, 5, 6], dtype='int64')\n",
        "print(a.dtype)\n",
        "print(b.dtype)"
      ],
      "execution_count": 0,
      "outputs": []
    },
    {
      "cell_type": "code",
      "metadata": {
        "id": "cpG0JN7bmaZq",
        "colab_type": "code",
        "colab": {}
      },
      "source": [
        "c = a + b\n",
        "print(c.dtype)"
      ],
      "execution_count": 0,
      "outputs": []
    },
    {
      "cell_type": "markdown",
      "metadata": {
        "id": "-t8P452DmaZr",
        "colab_type": "text"
      },
      "source": [
        "## 2차원 ndarray의 연산"
      ]
    },
    {
      "cell_type": "code",
      "metadata": {
        "id": "4CvVMZ3GmaZs",
        "colab_type": "code",
        "colab": {}
      },
      "source": [
        "a = np.array([[1, 2], [3, 4]])"
      ],
      "execution_count": 0,
      "outputs": []
    },
    {
      "cell_type": "code",
      "metadata": {
        "id": "TUSNQZmEmaZt",
        "colab_type": "code",
        "colab": {}
      },
      "source": [
        "b = np.array([[10, 20], [30, 40]])"
      ],
      "execution_count": 0,
      "outputs": []
    },
    {
      "cell_type": "code",
      "metadata": {
        "id": "qbsTbdormaZu",
        "colab_type": "code",
        "colab": {}
      },
      "source": [
        "a + b"
      ],
      "execution_count": 0,
      "outputs": []
    },
    {
      "cell_type": "code",
      "metadata": {
        "scrolled": true,
        "id": "EN9Q098emaZy",
        "colab_type": "code",
        "colab": {}
      },
      "source": [
        "a - b"
      ],
      "execution_count": 0,
      "outputs": []
    },
    {
      "cell_type": "code",
      "metadata": {
        "id": "G3sjHOkimaZ0",
        "colab_type": "code",
        "colab": {}
      },
      "source": [
        "a * b"
      ],
      "execution_count": 0,
      "outputs": []
    },
    {
      "cell_type": "code",
      "metadata": {
        "id": "ckYsok0GmaZ2",
        "colab_type": "code",
        "colab": {}
      },
      "source": [
        "a / b"
      ],
      "execution_count": 0,
      "outputs": []
    },
    {
      "cell_type": "code",
      "metadata": {
        "id": "FbvgpcwTmaZ4",
        "colab_type": "code",
        "colab": {}
      },
      "source": [
        "np.matmul(a, b)"
      ],
      "execution_count": 0,
      "outputs": []
    },
    {
      "cell_type": "code",
      "metadata": {
        "id": "kr3AjFf_maZ6",
        "colab_type": "code",
        "colab": {}
      },
      "source": [
        "g = a @ b\n",
        "print(g)"
      ],
      "execution_count": 0,
      "outputs": []
    },
    {
      "cell_type": "code",
      "metadata": {
        "id": "47a8AtW3maZ8",
        "colab_type": "code",
        "colab": {}
      },
      "source": [
        "a[0, 0] * b[0, 0] + a[0, 1] * b[1, 0]"
      ],
      "execution_count": 0,
      "outputs": []
    },
    {
      "cell_type": "code",
      "metadata": {
        "id": "zqRbejoymaZ-",
        "colab_type": "code",
        "colab": {}
      },
      "source": [
        "a = np.array([[1, 2], [3, 4]])\n",
        "a + 1"
      ],
      "execution_count": 0,
      "outputs": []
    },
    {
      "cell_type": "code",
      "metadata": {
        "id": "Cis75_2xmaaA",
        "colab_type": "code",
        "colab": {}
      },
      "source": [
        "a * 2"
      ],
      "execution_count": 0,
      "outputs": []
    },
    {
      "cell_type": "markdown",
      "metadata": {
        "id": "1tKj_a1ImaaD",
        "colab_type": "text"
      },
      "source": [
        "## numpy 배열 생성"
      ]
    },
    {
      "cell_type": "code",
      "metadata": {
        "scrolled": true,
        "id": "EuJ5uXFwmaaD",
        "colab_type": "code",
        "colab": {}
      },
      "source": [
        "import numpy as np\n",
        "\n",
        "a = np.zeros((2, 3))\n",
        "print('a =', a)\n",
        "b = np.ones((2, 3))\n",
        "print('b =', b)\n",
        "c = np.full((2, 3), 100)\n",
        "print('c =', c)\n",
        "d = np.eye(3)\n",
        "print('d =', d)\n",
        "e = np.random.random((3, 4))\n",
        "print('e =', e)"
      ],
      "execution_count": 0,
      "outputs": []
    },
    {
      "cell_type": "markdown",
      "metadata": {
        "id": "tyFx-0vAmaaG",
        "colab_type": "text"
      },
      "source": [
        "## arange() 실습"
      ]
    },
    {
      "cell_type": "code",
      "metadata": {
        "id": "-gAGDIWImaaH",
        "colab_type": "code",
        "colab": {}
      },
      "source": [
        "np.arange(0, 10)"
      ],
      "execution_count": 0,
      "outputs": []
    },
    {
      "cell_type": "code",
      "metadata": {
        "scrolled": true,
        "id": "D6x4XE1WmaaI",
        "colab_type": "code",
        "colab": {}
      },
      "source": [
        "np.arange(0, 10, 2)"
      ],
      "execution_count": 0,
      "outputs": []
    },
    {
      "cell_type": "code",
      "metadata": {
        "id": "QCtqr9htmaaK",
        "colab_type": "code",
        "colab": {}
      },
      "source": [
        "np.arange(0, 10, 3)"
      ],
      "execution_count": 0,
      "outputs": []
    },
    {
      "cell_type": "code",
      "metadata": {
        "scrolled": true,
        "id": "7HCOtQhdmaaL",
        "colab_type": "code",
        "colab": {}
      },
      "source": [
        "np.arange(0.0, 1.0, 0.2)"
      ],
      "execution_count": 0,
      "outputs": []
    },
    {
      "cell_type": "code",
      "metadata": {
        "id": "kCNaqgfBmaaM",
        "colab_type": "code",
        "colab": {}
      },
      "source": [
        "a = np.array([[1, 2], [3, 4]])\n",
        "a + 1"
      ],
      "execution_count": 0,
      "outputs": []
    },
    {
      "cell_type": "code",
      "metadata": {
        "id": "-KLWI_lqmaaO",
        "colab_type": "code",
        "colab": {}
      },
      "source": [
        "a - 1"
      ],
      "execution_count": 0,
      "outputs": []
    },
    {
      "cell_type": "code",
      "metadata": {
        "id": "bbD67weSmaaP",
        "colab_type": "code",
        "colab": {}
      },
      "source": [
        "a * 100"
      ],
      "execution_count": 0,
      "outputs": []
    },
    {
      "cell_type": "code",
      "metadata": {
        "scrolled": true,
        "id": "PBVZrr2HmaaS",
        "colab_type": "code",
        "colab": {}
      },
      "source": [
        "a / 100"
      ],
      "execution_count": 0,
      "outputs": []
    },
    {
      "cell_type": "code",
      "metadata": {
        "id": "SVew1Qb4maaT",
        "colab_type": "code",
        "colab": {}
      },
      "source": [
        "a ** 2"
      ],
      "execution_count": 0,
      "outputs": []
    },
    {
      "cell_type": "code",
      "metadata": {
        "id": "6_nc2hTomaaW",
        "colab_type": "code",
        "colab": {}
      },
      "source": [
        "a ** 10"
      ],
      "execution_count": 0,
      "outputs": []
    },
    {
      "cell_type": "markdown",
      "metadata": {
        "id": "e7ToyBbJmaaY",
        "colab_type": "text"
      },
      "source": [
        "## 배열의 생성과 초기화"
      ]
    },
    {
      "cell_type": "code",
      "metadata": {
        "scrolled": true,
        "id": "8yPk7JOjmaaY",
        "colab_type": "code",
        "colab": {}
      },
      "source": [
        "np.zeros((2, 3))"
      ],
      "execution_count": 0,
      "outputs": []
    },
    {
      "cell_type": "code",
      "metadata": {
        "scrolled": true,
        "id": "wFFlAwUcmaab",
        "colab_type": "code",
        "colab": {}
      },
      "source": [
        "np.ones((2, 3))"
      ],
      "execution_count": 0,
      "outputs": []
    },
    {
      "cell_type": "code",
      "metadata": {
        "scrolled": true,
        "id": "v86nNXUCmaac",
        "colab_type": "code",
        "colab": {}
      },
      "source": [
        "np.full((2, 3), 100)"
      ],
      "execution_count": 0,
      "outputs": []
    },
    {
      "cell_type": "code",
      "metadata": {
        "scrolled": false,
        "id": "CAEwuakXmaae",
        "colab_type": "code",
        "colab": {}
      },
      "source": [
        "np.eye(3)"
      ],
      "execution_count": 0,
      "outputs": []
    },
    {
      "cell_type": "code",
      "metadata": {
        "scrolled": true,
        "id": "iMoJnqd9maag",
        "colab_type": "code",
        "colab": {}
      },
      "source": [
        "np.random.random((2, 3))"
      ],
      "execution_count": 0,
      "outputs": []
    },
    {
      "cell_type": "markdown",
      "metadata": {
        "id": "ThT0zxeqmaaj",
        "colab_type": "text"
      },
      "source": [
        "## arange 실습"
      ]
    },
    {
      "cell_type": "code",
      "metadata": {
        "id": "yjjox-SNmaak",
        "colab_type": "code",
        "colab": {}
      },
      "source": [
        "np.arange(0, 10)"
      ],
      "execution_count": 0,
      "outputs": []
    },
    {
      "cell_type": "code",
      "metadata": {
        "id": "xzG2v6jtmaal",
        "colab_type": "code",
        "colab": {}
      },
      "source": [
        "np.arange(0, 10, 2)"
      ],
      "execution_count": 0,
      "outputs": []
    },
    {
      "cell_type": "code",
      "metadata": {
        "id": "N8XAGELZmaan",
        "colab_type": "code",
        "colab": {}
      },
      "source": [
        "np.arange(0, 10, 3)"
      ],
      "execution_count": 0,
      "outputs": []
    },
    {
      "cell_type": "code",
      "metadata": {
        "id": "1PgDNPammaao",
        "colab_type": "code",
        "colab": {}
      },
      "source": [
        "np.arange(0.0, 1.0, 0.2)"
      ],
      "execution_count": 0,
      "outputs": []
    },
    {
      "cell_type": "code",
      "metadata": {
        "id": "YyJzp_7omaaq",
        "colab_type": "code",
        "colab": {}
      },
      "source": [
        "np.linspace(0, 10, 5)"
      ],
      "execution_count": 0,
      "outputs": []
    },
    {
      "cell_type": "code",
      "metadata": {
        "id": "yJGzDHXCmaas",
        "colab_type": "code",
        "colab": {}
      },
      "source": [
        "np.linspace(0, 10, 4)"
      ],
      "execution_count": 0,
      "outputs": []
    },
    {
      "cell_type": "markdown",
      "metadata": {
        "id": "Lv11dgEPmaav",
        "colab_type": "text"
      },
      "source": [
        "## reshape 실습"
      ]
    },
    {
      "cell_type": "code",
      "metadata": {
        "id": "Yy0MpZ-kmaav",
        "colab_type": "code",
        "colab": {}
      },
      "source": [
        "np.arange(0,10).reshape(2,5)"
      ],
      "execution_count": 0,
      "outputs": []
    },
    {
      "cell_type": "code",
      "metadata": {
        "id": "wZHHR8limaaw",
        "colab_type": "code",
        "colab": {}
      },
      "source": [
        "np.arange(0,10).reshape(5,2)"
      ],
      "execution_count": 0,
      "outputs": []
    },
    {
      "cell_type": "code",
      "metadata": {
        "scrolled": false,
        "id": "wNv0oVNWmaay",
        "colab_type": "code",
        "colab": {}
      },
      "source": [
        "np.arange(0,10).reshape(3,3)"
      ],
      "execution_count": 0,
      "outputs": []
    },
    {
      "cell_type": "code",
      "metadata": {
        "id": "cR_RUmQMmaaz",
        "colab_type": "code",
        "colab": {}
      },
      "source": [
        "np.arange(0, 24).reshape(4, 3, 2)"
      ],
      "execution_count": 0,
      "outputs": []
    },
    {
      "cell_type": "code",
      "metadata": {
        "id": "A9vYD02omaa2",
        "colab_type": "code",
        "colab": {}
      },
      "source": [
        "print(a[np.array([0, 1])])"
      ],
      "execution_count": 0,
      "outputs": []
    }
  ]
}