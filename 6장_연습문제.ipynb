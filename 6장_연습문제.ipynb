{
  "nbformat": 4,
  "nbformat_minor": 0,
  "metadata": {
    "colab": {
      "name": "6장_연습문제.ipynb",
      "provenance": [],
      "collapsed_sections": [],
      "include_colab_link": true
    },
    "kernelspec": {
      "name": "python3",
      "display_name": "Python 3"
    },
    "accelerator": "GPU"
  },
  "cells": [
    {
      "cell_type": "markdown",
      "metadata": {
        "id": "view-in-github",
        "colab_type": "text"
      },
      "source": [
        "<a href=\"https://colab.research.google.com/github/dongupak/Prime-Python/blob/master/6%EC%9E%A5_%EC%97%B0%EC%8A%B5%EB%AC%B8%EC%A0%9C.ipynb\" target=\"_parent\"><img src=\"https://colab.research.google.com/assets/colab-badge.svg\" alt=\"Open In Colab\"/></a>"
      ]
    },
    {
      "cell_type": "markdown",
      "metadata": {
        "id": "yGuR7VGXNQWs",
        "colab_type": "text"
      },
      "source": [
        "# **생능 출판사 \"으뜸 파이썬\"(1판) 교재의 연습문제 정답**\n",
        "# *6장 딕셔너리, 튜플, 집합*\n",
        "---\n",
        "* 출판사 : 생능 출판사( http://www.booksr.co.kr/ )\n",
        "* 으뜸 파이썬 저자 : 박동규, 강영민 \n",
        "* 소스코드 저장소 : https://github.com/dongupak/Prime-Python\n",
        "* 저작권 : 본 주피터 노트북 코드는 생능 출판사에서 배포하는 강사전용 자료입니다.\n",
        "* 학생들의 학습의욕을 고취시키기 위해서 강사님들만 사용해주시고 **배포를 금해** 주십시오.\n",
        "* 정답 문의 : dongupak@gmail.com(박동규)\n",
        "---\n",
        "# 6장 연습문제"
      ]
    },
    {
      "cell_type": "markdown",
      "metadata": {
        "id": "iOAaZ-cqUx8T",
        "colab_type": "text"
      },
      "source": [
        "## 6.1 다음과 같은 파이썬 딕셔너리 구조의 프로그램을 실행할 적에, 다음 밑줄 친 곳에 들어갈 알맞은 내용은 무엇인가? (5)번 문제의 출력을 위하여 len() 함수를 사용하시오.\n",
        "---\n",
        "```\n",
        ">>> price = {'김밥‘: 5000, ’어묵‘: 3000, ’떡볶이‘: 2000}\n",
        ">>> price['김밥‘]\n",
        "(1) ______________\n",
        ">>> price['김밥‘] = 6000\n",
        ">>> price\n",
        "(2) ______________\n",
        ">>> price.values()\n",
        "(3) ______________\n",
        ">>> price.keys()\n",
        "(4) ______________\n",
        ">>> (5) _________________________________\n",
        "이 식당의 메뉴 개수는 3개 입니다.\n",
        "```"
      ]
    },
    {
      "cell_type": "code",
      "metadata": {
        "id": "HZdfs4IeU5xK",
        "colab_type": "code",
        "outputId": "bb2a9bf7-3a6d-4174-ef3b-a77e12320d54",
        "colab": {
          "base_uri": "https://localhost:8080/",
          "height": 35
        }
      },
      "source": [
        "price = {'김밥': 5000, '어묵':3000, '떡볶이': 2000}\n",
        "price['김밥']"
      ],
      "execution_count": 0,
      "outputs": [
        {
          "output_type": "execute_result",
          "data": {
            "text/plain": [
              "5000"
            ]
          },
          "metadata": {
            "tags": []
          },
          "execution_count": 1
        }
      ]
    },
    {
      "cell_type": "code",
      "metadata": {
        "id": "kixdhDNkVF_r",
        "colab_type": "code",
        "outputId": "636a0ecc-26f8-48cb-9622-1984e0d75b15",
        "colab": {
          "base_uri": "https://localhost:8080/",
          "height": 35
        }
      },
      "source": [
        "price['김밥'] = 6000\n",
        "price"
      ],
      "execution_count": 0,
      "outputs": [
        {
          "output_type": "execute_result",
          "data": {
            "text/plain": [
              "{'김밥': 6000, '떡볶이': 2000, '어묵': 3000}"
            ]
          },
          "metadata": {
            "tags": []
          },
          "execution_count": 2
        }
      ]
    },
    {
      "cell_type": "code",
      "metadata": {
        "id": "MysM_niIJqOd",
        "colab_type": "code",
        "outputId": "a844988b-ef64-41ea-d5b8-da3f66735b82",
        "colab": {
          "base_uri": "https://localhost:8080/",
          "height": 35
        }
      },
      "source": [
        "price.values()"
      ],
      "execution_count": 0,
      "outputs": [
        {
          "output_type": "execute_result",
          "data": {
            "text/plain": [
              "dict_values([6000, 3000, 2000])"
            ]
          },
          "metadata": {
            "tags": []
          },
          "execution_count": 3
        }
      ]
    },
    {
      "cell_type": "code",
      "metadata": {
        "id": "UzPmA-2NJusP",
        "colab_type": "code",
        "outputId": "ce47584c-0945-4bea-c8e9-abd594c04991",
        "colab": {
          "base_uri": "https://localhost:8080/",
          "height": 35
        }
      },
      "source": [
        "price.keys()"
      ],
      "execution_count": 0,
      "outputs": [
        {
          "output_type": "execute_result",
          "data": {
            "text/plain": [
              "dict_keys(['김밥', '어묵', '떡볶이'])"
            ]
          },
          "metadata": {
            "tags": []
          },
          "execution_count": 4
        }
      ]
    },
    {
      "cell_type": "code",
      "metadata": {
        "id": "Qvk6QqxqJx3N",
        "colab_type": "code",
        "outputId": "10bd851c-610f-4ecf-843a-d8c7fe332bc6",
        "colab": {
          "base_uri": "https://localhost:8080/",
          "height": 35
        }
      },
      "source": [
        "print('이 식당의 메뉴 개수는', len(price),'개 입니다')"
      ],
      "execution_count": 0,
      "outputs": [
        {
          "output_type": "stream",
          "text": [
            "이 식당의 메뉴 개수는 3 개 입니다\n"
          ],
          "name": "stdout"
        }
      ]
    },
    {
      "cell_type": "markdown",
      "metadata": {
        "id": "jYp_-Uy3LreF",
        "colab_type": "text"
      },
      "source": [
        "## 6.2 문제 6.1의 price 딕셔너리에 (‘순대’ : 4500) 메뉴를 추가하는 코드를 (1)에 넣으시오. (2)에는 그 후의 출력 결과를 적으시오. (3)은 price['순대‘]를 사용하여 출력하시오. (4)는 반드시 len() 함수를 이용하시오.\n",
        "---\n",
        "```\n",
        ">>> (1) ______________\n",
        ">>> price\n",
        "(2) ________________________________________________________\n",
        ">>> (3) ________________________________________________________\n",
        "순대의 가격은 4500원 입니다.\n",
        ">>> (4) _________________________________\n",
        "이 식당의 메뉴 개수는 4개 입니다.\n",
        "```\n",
        "\n"
      ]
    },
    {
      "cell_type": "code",
      "metadata": {
        "id": "rXgOxnDuLszT",
        "colab_type": "code",
        "outputId": "f833de3b-67c0-412d-df9d-2977880c1daf",
        "colab": {
          "base_uri": "https://localhost:8080/",
          "height": 35
        }
      },
      "source": [
        "price['순대'] = 4500\n",
        "price"
      ],
      "execution_count": 0,
      "outputs": [
        {
          "output_type": "execute_result",
          "data": {
            "text/plain": [
              "{'김밥': 6000, '떡볶이': 2000, '순대': 4500, '어묵': 3000}"
            ]
          },
          "metadata": {
            "tags": []
          },
          "execution_count": 6
        }
      ]
    },
    {
      "cell_type": "code",
      "metadata": {
        "id": "-lT3Wr6oL5lL",
        "colab_type": "code",
        "outputId": "9004a210-6f24-4649-edfe-c1462f899994",
        "colab": {
          "base_uri": "https://localhost:8080/",
          "height": 35
        }
      },
      "source": [
        "print('{}의 가격은 {}원 입니다.'.format('순대', price['순대']))"
      ],
      "execution_count": 0,
      "outputs": [
        {
          "output_type": "stream",
          "text": [
            "순대의 가격은 4500원 입니다.\n"
          ],
          "name": "stdout"
        }
      ]
    },
    {
      "cell_type": "code",
      "metadata": {
        "id": "K8ARE3csOWQ-",
        "colab_type": "code",
        "outputId": "816c29df-e7e0-429f-dfc8-d1f469e1944c",
        "colab": {
          "base_uri": "https://localhost:8080/",
          "height": 35
        }
      },
      "source": [
        "print('이 식당의 메뉴 개수는', len(price),'개 입니다')"
      ],
      "execution_count": 0,
      "outputs": [
        {
          "output_type": "stream",
          "text": [
            "이 식당의 메뉴 개수는 4 개 입니다\n"
          ],
          "name": "stdout"
        }
      ]
    },
    {
      "cell_type": "markdown",
      "metadata": {
        "id": "Y-J4FBwCOxi8",
        "colab_type": "text"
      },
      "source": [
        "## 6.3 동윤이가 새로 문을 열고 운영하는 커피 가게에는 Americano, Ice Americano, Cappuccino, Caffe Latte, Espresso의 5가지 메뉴가 있으며, 각 메뉴의 가격은 각각 3,000원, 3,500원, 4,000원, 4,500원, 3,600원이다. 이 목록을 menu라는 딕셔너리로 작성하라.\n",
        "### 1) 이 menu의 내용을 for key in menu: 구문을 사용하여 다음과 같이 출력하여라.\n",
        "---\n",
        "실행 결과\n",
        "```\n",
        "Americano         가격 : 3,000원\n",
        "Ice Americano     가격 : 3,500원\n",
        "Cappuccino        가격 : 4,000원\n",
        "Cafe Latte        가격 : 4,500원\n",
        "Espresso          가격 : 3,600원\n",
        "```\n",
        "\n"
      ]
    },
    {
      "cell_type": "code",
      "metadata": {
        "id": "igZy4H7HO2YA",
        "colab_type": "code",
        "outputId": "2cbfb9ea-8872-4f72-d8c7-1fed0d60359c",
        "colab": {
          "base_uri": "https://localhost:8080/",
          "height": 108
        }
      },
      "source": [
        "menu = {'Americano': 3000, 'Ice Americano': 3500, 'Cappuccino' : 4000, 'Cafe Latte':4500, 'Espresso':3600 }\n",
        "for key in menu:\n",
        "  print(\"{:16s}  가격 : {:,}원\".format(key, menu[key]))"
      ],
      "execution_count": 0,
      "outputs": [
        {
          "output_type": "stream",
          "text": [
            "Americano         가격 : 3,000원\n",
            "Ice Americano     가격 : 3,500원\n",
            "Cappuccino        가격 : 4,000원\n",
            "Cafe Latte        가격 : 4,500원\n",
            "Espresso          가격 : 3,600원\n"
          ],
          "name": "stdout"
        }
      ]
    },
    {
      "cell_type": "markdown",
      "metadata": {
        "id": "9aWXDULESCSd",
        "colab_type": "text"
      },
      "source": [
        "### 2) 사용자로부터 다음과 같은 주문을 받은 후 주문한 내용이 메뉴에 있는지 구하는 프로그램을 작성하라(힌트: in 연산자를 사용할 것).\n",
        "---\n",
        "실행 결과\n",
        "```\n",
        "Americano         가격 : 3,000원\n",
        "Ice Americano     가격 : 3,500원\n",
        "Cappuccino        가격 : 4,000원\n",
        "Cafe Latte        가격 : 4,500원\n",
        "Espresso          가격 : 3,600원\n",
        "위의 메뉴중 하나를 선택하세요: Espresso\n",
        "Espresso는 3,600원 입니다. 결제를 부탁합니다.\n",
        "```\n",
        "---\n",
        "실행 결과\n",
        "```\n",
        "Americano         가격 : 3,000원\n",
        "Ice Americano     가격 : 3,500원\n",
        "Cappuccino        가격 : 4,000원\n",
        "Cafe Latte        가격 : 4,500원\n",
        "Espresso          가격 : 3,600원\n",
        "위의 메뉴중 하나를 선택하세요: Fan Cake\n",
        "미안합니다. Fan Cake는 메뉴에 없습니다. \n",
        "```\n",
        "\n",
        "\n",
        "\n"
      ]
    },
    {
      "cell_type": "code",
      "metadata": {
        "id": "XBfZCAn7SMF1",
        "colab_type": "code",
        "outputId": "dca26597-03b5-4ac3-ec54-5961284ce2c7",
        "colab": {
          "base_uri": "https://localhost:8080/",
          "height": 145
        }
      },
      "source": [
        "print('Americano         가격 : 3,000원')\n",
        "print('Ice Americano     가격 : 3,500원')\n",
        "print('Cappuccino        가격 : 4,000원')\n",
        "print('Cafe Latte        가격 : 4,500원')\n",
        "print('Espresso          가격 : 3,600원')\n",
        "choice = input('위의 메뉴중 하나를 선택하세요: ')\n",
        "if choice in menu.keys():\n",
        "  print('{}는 {:,}원 입니다. 결제를 부탁합니다.'.format(choice, menu[choice]))\n",
        "else:\n",
        "  print('미안합니다. {}는 메뉴에 없습니다'.format(choice))"
      ],
      "execution_count": 0,
      "outputs": [
        {
          "output_type": "stream",
          "text": [
            "Americano         가격 : 3,000원\n",
            "Ice Americano     가격 : 3,500원\n",
            "Cappuccino        가격 : 4,000원\n",
            "Cafe Latte        가격 : 4,500원\n",
            "Espresso          가격 : 3,600원\n",
            "위의 메뉴중 하나를 선택하세요: Fan Cake\n",
            "미안합니다. Fan Cake는 메뉴에 없습니다\n"
          ],
          "name": "stdout"
        }
      ]
    },
    {
      "cell_type": "markdown",
      "metadata": {
        "id": "KVOjvrc4eqGJ",
        "colab_type": "text"
      },
      "source": [
        "## 6.4 다음의 코드에서 잘못된 부분은 무엇인가?\n",
        "---\n",
        "```\n",
        ">>> t = (10, 20, 30, 40)\n",
        ">>> t.append(50)\n",
        "```\n",
        "---\n",
        "```\n",
        ">>> t = (10, 20, 30, 40)\n",
        ">>> t.remove(50)\n",
        "```\n",
        "---\n",
        "```\n",
        ">>> t = (10, 20, 30, 40)\n",
        ">>> t[0] = 0\n",
        "```"
      ]
    },
    {
      "cell_type": "code",
      "metadata": {
        "id": "8qiCCsWKpKmb",
        "colab_type": "code",
        "outputId": "6c5d1662-b90c-478b-d222-37248d0a7e69",
        "colab": {
          "base_uri": "https://localhost:8080/",
          "height": 186
        }
      },
      "source": [
        "t = (10, 20, 30, 40)\n",
        "t.append(50)"
      ],
      "execution_count": 0,
      "outputs": [
        {
          "output_type": "error",
          "ename": "AttributeError",
          "evalue": "ignored",
          "traceback": [
            "\u001b[0;31m---------------------------------------------------------------------------\u001b[0m",
            "\u001b[0;31mAttributeError\u001b[0m                            Traceback (most recent call last)",
            "\u001b[0;32m<ipython-input-6-d093effde712>\u001b[0m in \u001b[0;36m<module>\u001b[0;34m()\u001b[0m\n\u001b[1;32m      1\u001b[0m \u001b[0mt\u001b[0m \u001b[0;34m=\u001b[0m \u001b[0;34m(\u001b[0m\u001b[0;36m10\u001b[0m\u001b[0;34m,\u001b[0m \u001b[0;36m20\u001b[0m\u001b[0;34m,\u001b[0m \u001b[0;36m30\u001b[0m\u001b[0;34m,\u001b[0m \u001b[0;36m40\u001b[0m\u001b[0;34m)\u001b[0m\u001b[0;34m\u001b[0m\u001b[0;34m\u001b[0m\u001b[0m\n\u001b[0;32m----> 2\u001b[0;31m \u001b[0mt\u001b[0m\u001b[0;34m.\u001b[0m\u001b[0mappend\u001b[0m\u001b[0;34m(\u001b[0m\u001b[0;36m50\u001b[0m\u001b[0;34m)\u001b[0m\u001b[0;34m\u001b[0m\u001b[0;34m\u001b[0m\u001b[0m\n\u001b[0m",
            "\u001b[0;31mAttributeError\u001b[0m: 'tuple' object has no attribute 'append'"
          ]
        }
      ]
    },
    {
      "cell_type": "code",
      "metadata": {
        "id": "MTe4bo4s99Aj",
        "colab_type": "code",
        "outputId": "cb4e201d-1afc-462f-d8c3-3661af9a7646",
        "colab": {
          "base_uri": "https://localhost:8080/",
          "height": 191
        }
      },
      "source": [
        "t = (10, 20, 30, 40)\n",
        "t.remove(40)"
      ],
      "execution_count": 0,
      "outputs": [
        {
          "output_type": "error",
          "ename": "AttributeError",
          "evalue": "ignored",
          "traceback": [
            "\u001b[0;31m---------------------------------------------------------------------------\u001b[0m",
            "\u001b[0;31mAttributeError\u001b[0m                            Traceback (most recent call last)",
            "\u001b[0;32m<ipython-input-12-8aa0677608f6>\u001b[0m in \u001b[0;36m<module>\u001b[0;34m()\u001b[0m\n\u001b[1;32m      1\u001b[0m \u001b[0mt\u001b[0m \u001b[0;34m=\u001b[0m \u001b[0;34m(\u001b[0m\u001b[0;36m10\u001b[0m\u001b[0;34m,\u001b[0m \u001b[0;36m20\u001b[0m\u001b[0;34m,\u001b[0m \u001b[0;36m30\u001b[0m\u001b[0;34m,\u001b[0m \u001b[0;36m40\u001b[0m\u001b[0;34m)\u001b[0m\u001b[0;34m\u001b[0m\u001b[0;34m\u001b[0m\u001b[0m\n\u001b[0;32m----> 2\u001b[0;31m \u001b[0mt\u001b[0m\u001b[0;34m.\u001b[0m\u001b[0mremove\u001b[0m\u001b[0;34m(\u001b[0m\u001b[0;36m40\u001b[0m\u001b[0;34m)\u001b[0m\u001b[0;34m\u001b[0m\u001b[0;34m\u001b[0m\u001b[0m\n\u001b[0m",
            "\u001b[0;31mAttributeError\u001b[0m: 'tuple' object has no attribute 'remove'"
          ]
        }
      ]
    },
    {
      "cell_type": "code",
      "metadata": {
        "id": "v2LldNDnnd0Z",
        "colab_type": "code",
        "outputId": "27c54f19-690a-422c-ca6f-0916b88ae580",
        "colab": {
          "base_uri": "https://localhost:8080/",
          "height": 190
        }
      },
      "source": [
        "t = (10, 20, 30, 40)\n",
        "t[0] = 0"
      ],
      "execution_count": 0,
      "outputs": [
        {
          "output_type": "error",
          "ename": "TypeError",
          "evalue": "ignored",
          "traceback": [
            "\u001b[0;31m---------------------------------------------------------------------------\u001b[0m",
            "\u001b[0;31mTypeError\u001b[0m                                 Traceback (most recent call last)",
            "\u001b[0;32m<ipython-input-1-8e6554f5185e>\u001b[0m in \u001b[0;36m<module>\u001b[0;34m()\u001b[0m\n\u001b[1;32m      1\u001b[0m \u001b[0mt\u001b[0m \u001b[0;34m=\u001b[0m \u001b[0;34m(\u001b[0m\u001b[0;36m10\u001b[0m\u001b[0;34m,\u001b[0m \u001b[0;36m20\u001b[0m\u001b[0;34m,\u001b[0m \u001b[0;36m30\u001b[0m\u001b[0;34m,\u001b[0m \u001b[0;36m40\u001b[0m\u001b[0;34m)\u001b[0m\u001b[0;34m\u001b[0m\u001b[0;34m\u001b[0m\u001b[0m\n\u001b[0;32m----> 2\u001b[0;31m \u001b[0mt\u001b[0m\u001b[0;34m[\u001b[0m\u001b[0;36m0\u001b[0m\u001b[0;34m]\u001b[0m \u001b[0;34m=\u001b[0m \u001b[0;36m0\u001b[0m\u001b[0;34m\u001b[0m\u001b[0;34m\u001b[0m\u001b[0m\n\u001b[0m",
            "\u001b[0;31mTypeError\u001b[0m: 'tuple' object does not support item assignment"
          ]
        }
      ]
    },
    {
      "cell_type": "markdown",
      "metadata": {
        "id": "u1rPkc8EeqCv",
        "colab_type": "text"
      },
      "source": [
        "## 6.5 다음의 실행 결과를 적으시오.\n",
        "---\n",
        "```\n",
        ">>> t = (10, 20, 30, 40, 50, 60)\n",
        ">>> t[0]\n",
        "(1) ______________\n",
        ">>> t[0:2]\n",
        "(2) ______________\n",
        ">>> t[1:]\n",
        "(3) ______________\n",
        ">>> t[:3]\n",
        "(4) ______________\n",
        ">>> t[1::2]\n",
        "(5) ______________\n",
        ">>> t[::-1]\n",
        "```\n",
        "\n",
        "\n"
      ]
    },
    {
      "cell_type": "code",
      "metadata": {
        "id": "B4gbpCS_fHx-",
        "colab_type": "code",
        "outputId": "91c2b577-ef55-4952-cef0-48b5fcc8cebb",
        "colab": {
          "base_uri": "https://localhost:8080/",
          "height": 34
        }
      },
      "source": [
        "t = (10, 20, 30, 40, 50, 60)\n",
        "t[0]"
      ],
      "execution_count": 0,
      "outputs": [
        {
          "output_type": "execute_result",
          "data": {
            "text/plain": [
              "10"
            ]
          },
          "metadata": {
            "tags": []
          },
          "execution_count": 5
        }
      ]
    },
    {
      "cell_type": "code",
      "metadata": {
        "id": "wQ1X4mQ_fMSe",
        "colab_type": "code",
        "outputId": "6bd648e9-e2ee-4448-8144-1766a538fdd2",
        "colab": {
          "base_uri": "https://localhost:8080/",
          "height": 36
        }
      },
      "source": [
        "t[0:2]"
      ],
      "execution_count": 0,
      "outputs": [
        {
          "output_type": "execute_result",
          "data": {
            "text/plain": [
              "(10, 20)"
            ]
          },
          "metadata": {
            "tags": []
          },
          "execution_count": 12
        }
      ]
    },
    {
      "cell_type": "code",
      "metadata": {
        "id": "dtq_CHH4fOKF",
        "colab_type": "code",
        "outputId": "371774fd-f026-4801-c8f9-b0ab27329356",
        "colab": {
          "base_uri": "https://localhost:8080/",
          "height": 36
        }
      },
      "source": [
        "t[1:]"
      ],
      "execution_count": 0,
      "outputs": [
        {
          "output_type": "execute_result",
          "data": {
            "text/plain": [
              "(20, 30, 40, 50, 60)"
            ]
          },
          "metadata": {
            "tags": []
          },
          "execution_count": 13
        }
      ]
    },
    {
      "cell_type": "code",
      "metadata": {
        "id": "44v5ALQbfQj5",
        "colab_type": "code",
        "outputId": "160008bb-e4a7-4cf6-f40e-a67e20d4adc6",
        "colab": {
          "base_uri": "https://localhost:8080/",
          "height": 36
        }
      },
      "source": [
        "t[:3]"
      ],
      "execution_count": 0,
      "outputs": [
        {
          "output_type": "execute_result",
          "data": {
            "text/plain": [
              "(10, 20, 30)"
            ]
          },
          "metadata": {
            "tags": []
          },
          "execution_count": 14
        }
      ]
    },
    {
      "cell_type": "code",
      "metadata": {
        "id": "Db9Fs9DmfUEH",
        "colab_type": "code",
        "outputId": "746cdbd1-85aa-4e6e-ef88-02ff36b18215",
        "colab": {
          "base_uri": "https://localhost:8080/",
          "height": 36
        }
      },
      "source": [
        "t[1::2]"
      ],
      "execution_count": 0,
      "outputs": [
        {
          "output_type": "execute_result",
          "data": {
            "text/plain": [
              "(20, 40, 60)"
            ]
          },
          "metadata": {
            "tags": []
          },
          "execution_count": 16
        }
      ]
    },
    {
      "cell_type": "code",
      "metadata": {
        "id": "3PuSL7idfSGv",
        "colab_type": "code",
        "outputId": "f25b7146-e083-456b-e818-1ae72f0c5281",
        "colab": {
          "base_uri": "https://localhost:8080/",
          "height": 36
        }
      },
      "source": [
        "t[::-1]"
      ],
      "execution_count": 0,
      "outputs": [
        {
          "output_type": "execute_result",
          "data": {
            "text/plain": [
              "(60, 50, 40, 30, 20, 10)"
            ]
          },
          "metadata": {
            "tags": []
          },
          "execution_count": 15
        }
      ]
    },
    {
      "cell_type": "markdown",
      "metadata": {
        "id": "XIY4V5Bsep-U",
        "colab_type": "text"
      },
      "source": [
        "## 6.6 다음 코드의 실행 결과는 무엇인가?\n",
        "---"
      ]
    },
    {
      "cell_type": "code",
      "metadata": {
        "id": "kve1V3soiFTL",
        "colab_type": "code",
        "colab": {}
      },
      "source": [
        "t1 = 'a', 'b', 'c'\n",
        "t2 = ('a', 'b', 'c')\n",
        "t3 = ('d', 'e')"
      ],
      "execution_count": 0,
      "outputs": []
    },
    {
      "cell_type": "code",
      "metadata": {
        "id": "Vj2Z3YUFiLCw",
        "colab_type": "code",
        "outputId": "cb78f6e2-5b61-4c23-b464-f5e0eb5abd20",
        "colab": {
          "base_uri": "https://localhost:8080/",
          "height": 35
        }
      },
      "source": [
        "t1 == t2"
      ],
      "execution_count": 0,
      "outputs": [
        {
          "output_type": "execute_result",
          "data": {
            "text/plain": [
              "True"
            ]
          },
          "metadata": {
            "tags": []
          },
          "execution_count": 3
        }
      ]
    },
    {
      "cell_type": "code",
      "metadata": {
        "colab_type": "code",
        "outputId": "66c32735-0978-49ab-8d11-6d0b7b6fefed",
        "id": "Qa0G7vDgoFxx",
        "colab": {
          "base_uri": "https://localhost:8080/",
          "height": 34
        }
      },
      "source": [
        "t1 > t3"
      ],
      "execution_count": 0,
      "outputs": [
        {
          "output_type": "execute_result",
          "data": {
            "text/plain": [
              "False"
            ]
          },
          "metadata": {
            "tags": []
          },
          "execution_count": 32
        }
      ]
    },
    {
      "cell_type": "code",
      "metadata": {
        "colab_type": "code",
        "outputId": "1bce0586-2b5b-4d52-8ee2-fddb64859afd",
        "id": "AD8CbGsVoEqr",
        "colab": {
          "base_uri": "https://localhost:8080/",
          "height": 34
        }
      },
      "source": [
        "t1 < t3"
      ],
      "execution_count": 0,
      "outputs": [
        {
          "output_type": "execute_result",
          "data": {
            "text/plain": [
              "True"
            ]
          },
          "metadata": {
            "tags": []
          },
          "execution_count": 33
        }
      ]
    },
    {
      "cell_type": "code",
      "metadata": {
        "id": "HrfW59S_iNZ9",
        "colab_type": "code",
        "outputId": "6a4de3c3-d6b2-4d87-d3e7-bf225c579017",
        "colab": {
          "base_uri": "https://localhost:8080/",
          "height": 34
        }
      },
      "source": [
        "t2 + t3"
      ],
      "execution_count": 0,
      "outputs": [
        {
          "output_type": "execute_result",
          "data": {
            "text/plain": [
              "('a', 'b', 'c', 'd', 'e')"
            ]
          },
          "metadata": {
            "tags": []
          },
          "execution_count": 34
        }
      ]
    },
    {
      "cell_type": "code",
      "metadata": {
        "colab_type": "code",
        "outputId": "023cb8f8-b7bf-4c74-f97b-e23c34b50c6f",
        "id": "upbwbmkYoEll",
        "colab": {
          "base_uri": "https://localhost:8080/",
          "height": 34
        }
      },
      "source": [
        "[ t2 + t3 ]"
      ],
      "execution_count": 0,
      "outputs": [
        {
          "output_type": "execute_result",
          "data": {
            "text/plain": [
              "[('a', 'b', 'c', 'd', 'e')]"
            ]
          },
          "metadata": {
            "tags": []
          },
          "execution_count": 35
        }
      ]
    },
    {
      "cell_type": "code",
      "metadata": {
        "colab_type": "code",
        "outputId": "81af4a42-01b7-48cc-fbfa-bba47122ef07",
        "id": "VRazLgQAoEin",
        "colab": {
          "base_uri": "https://localhost:8080/",
          "height": 34
        }
      },
      "source": [
        "[ t2 + t3 ]"
      ],
      "execution_count": 0,
      "outputs": [
        {
          "output_type": "execute_result",
          "data": {
            "text/plain": [
              "[('a', 'b', 'c', 'd', 'e')]"
            ]
          },
          "metadata": {
            "tags": []
          },
          "execution_count": 36
        }
      ]
    },
    {
      "cell_type": "code",
      "metadata": {
        "id": "BlYEM1ChpA7r",
        "colab_type": "code",
        "outputId": "6f978baf-5ee0-43ae-fb44-58ffa4cd5370",
        "colab": {
          "base_uri": "https://localhost:8080/",
          "height": 34
        }
      },
      "source": [
        "t1"
      ],
      "execution_count": 0,
      "outputs": [
        {
          "output_type": "execute_result",
          "data": {
            "text/plain": [
              "('a', 'b', 'c')"
            ]
          },
          "metadata": {
            "tags": []
          },
          "execution_count": 37
        }
      ]
    },
    {
      "cell_type": "markdown",
      "metadata": {
        "id": "QOYuMfsEdw3Y",
        "colab_type": "text"
      },
      "source": [
        "## 반복가능 자료형에 담겨있는 내용을 가지고 새로운 리스트를 만들고 싶으면 다음과 같이 for 문을 사용할 수 있다. 다음을 실행해 보자."
      ]
    },
    {
      "cell_type": "code",
      "metadata": {
        "id": "Fx5VlyT-oqQ9",
        "colab_type": "code",
        "outputId": "04853a47-73e8-4627-9f9d-5b3de393d8d8",
        "colab": {
          "base_uri": "https://localhost:8080/",
          "height": 34
        }
      },
      "source": [
        "my_list = []\n",
        "for x in t1:\n",
        "  my_list.append(x)\n",
        "my_list"
      ],
      "execution_count": 0,
      "outputs": [
        {
          "output_type": "execute_result",
          "data": {
            "text/plain": [
              "['a', 'b', 'c']"
            ]
          },
          "metadata": {
            "tags": []
          },
          "execution_count": 38
        }
      ]
    },
    {
      "cell_type": "markdown",
      "metadata": {
        "id": "Lc90ljrzpLDo",
        "colab_type": "text"
      },
      "source": [
        "## 그런데 위의 코드를 조금 더 간략하게 구현하는 방법이 있다. 다음과 같이 리스트 안에서 for 문을 넣어 표현하는 방식을 리스트 축약 표현이라고 한다. 리스트 축약의 풍부한 기능은 12장에서 살펴볼 것이다. 여기서는 간단히 연습해 보자."
      ]
    },
    {
      "cell_type": "code",
      "metadata": {
        "id": "yFe5uoK1-SpC",
        "colab_type": "code",
        "outputId": "fce4bed3-e72f-40da-c6d5-2ee6a0c9032e",
        "colab": {
          "base_uri": "https://localhost:8080/",
          "height": 34
        }
      },
      "source": [
        "[ x for x in t1 ]"
      ],
      "execution_count": 0,
      "outputs": [
        {
          "output_type": "execute_result",
          "data": {
            "text/plain": [
              "['a', 'b', 'c']"
            ]
          },
          "metadata": {
            "tags": []
          },
          "execution_count": 39
        }
      ]
    },
    {
      "cell_type": "markdown",
      "metadata": {
        "id": "6S1v4r1Bp4ux",
        "colab_type": "text"
      },
      "source": [
        "## 두 개의 반복가능 자료형이 가진 원소를 조합하는 것은 중첩된 for 문을 사용하면 된다. 예를 들어 t1과 t3의 원소들을 이용하여 가능한 모든 쌍을 서로 결합하여 리스트를 만들고 싶으면 다음과 같이 할 수 있다."
      ]
    },
    {
      "cell_type": "code",
      "metadata": {
        "id": "c9K5KiE_phZ_",
        "colab_type": "code",
        "outputId": "55ab37b0-7a38-4059-c870-4229b6ac3a43",
        "colab": {
          "base_uri": "https://localhost:8080/",
          "height": 34
        }
      },
      "source": [
        "my_list = []\n",
        "for e1 in t1:\n",
        "  for e2 in t3:\n",
        "    my_list.append(e1+e2)\n",
        "my_list"
      ],
      "execution_count": 0,
      "outputs": [
        {
          "output_type": "execute_result",
          "data": {
            "text/plain": [
              "['ad', 'ae', 'bd', 'be', 'cd', 'ce']"
            ]
          },
          "metadata": {
            "tags": []
          },
          "execution_count": 41
        }
      ]
    },
    {
      "cell_type": "markdown",
      "metadata": {
        "id": "S9BboylJqLgl",
        "colab_type": "text"
      },
      "source": [
        "## 이것을 리스트 축약으로 표현하면 이중 for 문 각각을 리스트에 나열하여 다음과 같이 쓰면 된다."
      ]
    },
    {
      "cell_type": "code",
      "metadata": {
        "id": "CA_jINTpiQAN",
        "colab_type": "code",
        "outputId": "b074cf97-9ba7-41b9-8d0d-6255b92d88c2",
        "colab": {
          "base_uri": "https://localhost:8080/",
          "height": 34
        }
      },
      "source": [
        "[ e1 + e2 for e1 in t1 for e2 in t3 ]"
      ],
      "execution_count": 0,
      "outputs": [
        {
          "output_type": "execute_result",
          "data": {
            "text/plain": [
              "['ad', 'ae', 'bd', 'be', 'cd', 'ce']"
            ]
          },
          "metadata": {
            "tags": []
          },
          "execution_count": 42
        }
      ]
    },
    {
      "cell_type": "markdown",
      "metadata": {
        "id": "BJdYz9ZIUS6O",
        "colab_type": "text"
      },
      "source": [
        "## 6.7 주어진 튜플은 10일 동안 일일 매장 매출을 기록한 것이다. 매출이 전날보다 감소한 날이 며칠인지 출력하는 코드를 작성하라. \n",
        "---\n",
        "실행 결과\n",
        "```\n",
        "일일 매출 기록:  (100, 121, 120, 130, 140, 120, 122, 123, 190, 125)\n",
        "지난 10일 동안 전일대비 매출이 감소한 날은 3일입니다.\n",
        "```"
      ]
    },
    {
      "cell_type": "code",
      "metadata": {
        "id": "v9Un_JgbYC0b",
        "colab_type": "code",
        "outputId": "1146e52a-149a-46d1-cd76-ec2af61b51fa",
        "colab": {
          "base_uri": "https://localhost:8080/",
          "height": 52
        }
      },
      "source": [
        "sales = (100, 121, 120, 130, 140, 120, 122, 123, 190, 125)\n",
        "drop = 0\n",
        "\n",
        "for i in range( len(sales)-1 ):\n",
        "  if sales[i] > sales[i+1]:\n",
        "    drop += 1\n",
        "    \n",
        "print('일일 매출 기록: ', sales)\n",
        "print('지난 {}일 동안 전일대비 매출이 감소한 날은 {}일입니다.'.format(len(sales), drop))"
      ],
      "execution_count": 0,
      "outputs": [
        {
          "output_type": "stream",
          "text": [
            "일일 매출 기록:  (100, 121, 120, 130, 140, 120, 122, 123, 190, 125)\n",
            "지난 10일 동안 전일대비 매출이 감소한 날은 3일입니다.\n"
          ],
          "name": "stdout"
        }
      ]
    },
    {
      "cell_type": "markdown",
      "metadata": {
        "id": "HEyp-nbrfFSn",
        "colab_type": "text"
      },
      "source": [
        "## 6.8 주어진 튜플 tup에서 한 번 이상 나타나는 원소를 찾아 집합 dup에 넣어서 이를 출력하라. 다음의 튜플에서 1, 2, 4는 2번, 9는 3번 나타난다. 따라서 결과는 {1, 2, 4, 9}가 된다(*힌트 : 비어있는 집합을 만드는 것은 dup = set()과 같이 할 수 있다. 이 dup 집합에 tup의 원소를 하나하나 추출한 다음 tup.count(item) > 1과 같이 item이 2개 이상 원소를 찾아서 dup에 추가하여 구할 수 있다*).\n",
        "---\n",
        "실행결과\n",
        "```\n",
        "주어진 튜플은:  (1, 2, 5, 4, 3, 2, 9, 1, 4, 7, 8, 9, 9)\n",
        "중복 원소는:  {1, 2, 4, 9}\n",
        "```"
      ]
    },
    {
      "cell_type": "code",
      "metadata": {
        "id": "UV8C_qGEOlUj",
        "colab_type": "code",
        "outputId": "36e7c09f-daae-4ad5-8990-0066aeed136b",
        "colab": {
          "base_uri": "https://localhost:8080/",
          "height": 53
        }
      },
      "source": [
        "tup = 1, 2, 5, 4, 3, 2, 9, 1, 4, 7, 8, 9, 9\n",
        "dup = set()\n",
        "\n",
        "for item in tup:\n",
        "  if tup.count(item) > 1:\n",
        "     dup.add(item)\n",
        "\n",
        "print('주어진 튜플은: ', tup)\n",
        "print('중복 원소는: ', dup)"
      ],
      "execution_count": 0,
      "outputs": [
        {
          "output_type": "stream",
          "text": [
            "주어진 튜플은:  (1, 2, 5, 4, 3, 2, 9, 1, 4, 7, 8, 9, 9)\n",
            "중복 원소는:  {1, 2, 4, 9}\n"
          ],
          "name": "stdout"
        }
      ]
    },
    {
      "cell_type": "markdown",
      "metadata": {
        "id": "_d_Lg_s9RkNb",
        "colab_type": "text"
      },
      "source": [
        "## 6.9 중복 요소를 가진 튜플 tup에서 중복 요소가 하나만 나타나도록 수정한 튜플을 생성하라. 예들 들어 주어진 튜플에는 2가 두 번 나타나지만 중복을 제거하면 아래와 같이 한 번 나타난다(*힌트 : 원래의 튜플 tup를 집합 함수 set()에 넣어 집합 객체로 만든 후 다시 튜플 함수 tuple()에 넣도록 한다*).\n",
        "---\n",
        "```\n",
        "주어진 튜플: (1, 2, 5, 4, 3, 2, 1, 4, 7, 8, 9, 9, 3, 7, 3)\n",
        "중복 제거 튜플: (1, 2, 3, 4, 5, 7, 8, 9)\n",
        "```"
      ]
    },
    {
      "cell_type": "code",
      "metadata": {
        "id": "AMbZj37DRhWF",
        "colab_type": "code",
        "outputId": "cd40e756-c199-4021-f063-eefc8081774a",
        "colab": {
          "base_uri": "https://localhost:8080/",
          "height": 55
        }
      },
      "source": [
        "tup = 1, 2, 5, 4, 3, 2, 1, 4, 7, 8, 9, 9, 3, 7, 3\n",
        "print('주어진 튜플: ', tup)\n",
        "tup = tuple(set(tup))\n",
        "print('중복 제거 튜플: ', tup)"
      ],
      "execution_count": 0,
      "outputs": [
        {
          "output_type": "stream",
          "text": [
            "주어진 튜플:  (1, 2, 5, 4, 3, 2, 1, 4, 7, 8, 9, 9, 3, 7, 3)\n",
            "중복 제거 튜플:  (1, 2, 3, 4, 5, 7, 8, 9)\n"
          ],
          "name": "stdout"
        }
      ]
    },
    {
      "cell_type": "markdown",
      "metadata": {
        "id": "bRtxy41HQ0Nr",
        "colab_type": "text"
      },
      "source": [
        "## 6.10 주어진 튜플에서 가장 많이 나타나는 요소를 출력하라. 이때 가장 많이 나타나는 요소가 두 개 이상일 경우 이들 중에서 가장 큰 값을 출력하여라.\n",
        "---\n",
        "실행결과\n",
        "```\n",
        "주어진 튜플은: (1, 2, 5, 4, 3, 2, 1, 4, 7, 8, 9, 9, 3, 7, 3)\n",
        "가장 많이 나타나는 원소는: 3\n",
        "```\n",
        "## 혹은 3과 9가 각각 3회 나타나는 다음의 경우:\n",
        "\n",
        "실행 결과\n",
        "```\n",
        "주어진 튜플은: (1, 2, 5, 4, 3, 2, 9, 4, 7, 8, 9, 9, 3, 7, 3)\n",
        "가장 많이 나타나는 원소는: 9\n",
        "```"
      ]
    },
    {
      "cell_type": "code",
      "metadata": {
        "id": "fEpHmzvbRBBC",
        "colab_type": "code",
        "outputId": "153d1afa-a76e-49df-9d15-f764e95c0159",
        "colab": {
          "base_uri": "https://localhost:8080/",
          "height": 34
        }
      },
      "source": [
        "### 리스트 축약 없이 푸는 방법\n",
        "tup = 1, 2, 5, 4, 3, 2, 1, 4, 7, 8, 9, 9, 3, 7, 3\n",
        "\n",
        "temp = sorted(list(tup))\n",
        "\n",
        "max_count = 1\n",
        "count = 1\n",
        "cur_value = max_value = temp[0]\n",
        "\n",
        "for i in range(1, len(temp)):\n",
        "  if temp[i] is cur_value:\n",
        "    count += 1\n",
        "    if count >= max_count:\n",
        "      max_count = count\n",
        "      max_value = cur_value\n",
        "  else:\n",
        "    cur_value = temp[i]\n",
        "    count = 1\n",
        "\n",
        "print(max_value)   "
      ],
      "execution_count": 0,
      "outputs": [
        {
          "output_type": "stream",
          "text": [
            "3\n"
          ],
          "name": "stdout"
        }
      ]
    },
    {
      "cell_type": "code",
      "metadata": {
        "id": "Kh7TJdn0vN02",
        "colab_type": "code",
        "outputId": "45c78aca-1ff3-4e1b-ae73-a8053c00ef47",
        "colab": {
          "base_uri": "https://localhost:8080/",
          "height": 34
        }
      },
      "source": [
        "### 리스트 축약 없이 푸는 방법\n",
        "tup = 1, 2, 5, 4, 3, 2, 9, 4, 7, 8, 9, 9, 3, 7, 3\n",
        "\n",
        "temp = sorted(list(tup))\n",
        "\n",
        "max_count = 1\n",
        "count = 1\n",
        "cur_value = max_value = temp[0]\n",
        "\n",
        "for i in range(1, len(temp)):\n",
        "  if temp[i] is cur_value:\n",
        "    count += 1\n",
        "    if count >= max_count:\n",
        "      max_count = count\n",
        "      max_value = cur_value\n",
        "  else:\n",
        "    cur_value = temp[i]\n",
        "    count = 1\n",
        "\n",
        "print(max_value)    "
      ],
      "execution_count": 0,
      "outputs": [
        {
          "output_type": "stream",
          "text": [
            "9\n"
          ],
          "name": "stdout"
        }
      ]
    },
    {
      "cell_type": "markdown",
      "metadata": {
        "id": "pHkdU4QbeBZ3",
        "colab_type": "text"
      },
      "source": [
        "## 6.11 주어진 튜플의 원소 가운데 빈 튜플을 제거한 결과를 출력하는 코드를 작성하라. 이때 ((),) 튜플은 빈 튜플이 하나 있는 튜플로 간주하여 제거하지 않는다.\n",
        "---\n",
        "실행 결과\n",
        "```\n",
        "주어진 튜플 : [(), 1, (), (), (1,), ('a',), ('a', 'b'), ((),), ('a', 'b'), '']\n",
        "빈 튜플 원소를 제거한 결과 : [1, (1,), ('a',), ('a', 'b'), ((),), ('a', 'b')]\n",
        "```\n",
        "\n"
      ]
    },
    {
      "cell_type": "code",
      "metadata": {
        "id": "QExyH_uoeT5N",
        "colab_type": "code",
        "outputId": "c520827c-8e47-4f6c-8029-0217c588a713",
        "colab": {
          "base_uri": "https://localhost:8080/",
          "height": 50
        }
      },
      "source": [
        "tup = [(), (1), (), (), (1,), ('a',), ('a', 'b'), ((),), ('a', 'b'), ('')]\n",
        "\n",
        "print('주어진 튜플 :', tup)\n",
        "L = []\n",
        "\n",
        "for t in tup:\n",
        "    if t:\n",
        "        L.append(t)\n",
        "\n",
        "print('빈 튜플 원소를 제거한 결과 :' , L)"
      ],
      "execution_count": 1,
      "outputs": [
        {
          "output_type": "stream",
          "text": [
            "주어진 튜플 : [(), 1, (), (), (1,), ('a',), ('a', 'b'), ((),), ('a', 'b'), '']\n",
            "빈 튜플 원소를 제거한 결과 : [1, (1,), ('a',), ('a', 'b'), ((),), ('a', 'b')]\n"
          ],
          "name": "stdout"
        }
      ]
    },
    {
      "cell_type": "markdown",
      "metadata": {
        "id": "XKT7pP3Udunr",
        "colab_type": "text"
      },
      "source": [
        "## 6.12 튜플 데이터를 이용하면 임시변수를 사용하지 않고 두 변수의 값을 서로 교환(swap)할 수 있다. 이 교환 방법을 이용하여 다음과 같이 주어진 리스트에서 가장 큰 값 12를 제일 마지막으로 옮겨 놓는 프로그램을 작성해 보라.(제약조건 : 리스트의 원소를 살펴보기 위해 사용하는 for 문의 인덱스 변수 i를 제외하고는, 주어진 리스트 이외에 다른 어떤 변수도 추가로 사용해서는 안 된다)\n",
        "---\n",
        "실행 결과\n",
        "``` \n",
        "주어진 리스트는 =  [5, 6, 3, 9, 2, 12, 3, 8, 7]\n",
        "가장 큰 수를 마지막으로 옮긴 결과:  [5, 3, 6, 2, 9, 3, 8, 7, 12]\n",
        "```"
      ]
    },
    {
      "cell_type": "code",
      "metadata": {
        "id": "H6SHMUZ_gWu8",
        "colab_type": "code",
        "outputId": "b8374d37-1044-4b98-b2a3-151fd3f5ecad",
        "colab": {
          "base_uri": "https://localhost:8080/",
          "height": 52
        }
      },
      "source": [
        "list = [5, 6, 3, 9, 2, 12, 3, 8, 7]\n",
        "\n",
        "print('주어진 리스트는 = ', list)\n",
        "\n",
        "for i in range(0, len(list)-1):\n",
        "  if list[i] > list[i+1] :\n",
        "    list[i], list[i+1] = list[i+1], list[i]\n",
        "    \n",
        "print('가장 큰 수를 마지막으로 옮긴 결과: ', list)"
      ],
      "execution_count": 0,
      "outputs": [
        {
          "output_type": "stream",
          "text": [
            "주어진 리스트는 =  [5, 6, 3, 9, 2, 12, 3, 8, 7]\n",
            "가장 큰 수를 마지막으로 옮긴 결과:  [5, 3, 6, 2, 9, 3, 8, 7, 12]\n"
          ],
          "name": "stdout"
        }
      ]
    },
    {
      "cell_type": "markdown",
      "metadata": {
        "id": "4WlFa3l0ihMG",
        "colab_type": "text"
      },
      "source": [
        "## 6.13 `6.12` 문제를 개선하여 처음에는 가장 큰 수를 제일 마지막으로 옮기고, 두 번째 단계는 끝으로 옮겨진 원소를 제외한 리스트에서 가장 큰 수를 뒤에서 두 번째 위치로 옮기며, 세 번째 단계에서는 뒤의 두 원소를 제외한 나머지 리스트에서 가장 큰 수를 뒤에서 세 번째로 옮긴다. 이를 일반화 하면 k 번째 단계에서는 뒤에서 k-1 개 원소를 제외하고, 남은 리스트에서 가장 큰 원소를 뒤에서 부터 k 번째 위치에 옮겨 놓는 일을 처리할 리스트가 남지 않을 때까지 반복하면 큰 수부터 차례로 뒤에 쌓이게 된다. 이를 거품(bubble) 정렬이라고 한다. 이를 구현해 보라(힌트 : sorted() 함수나. 리스트의 sort() 메소드를 사용하지 말고 구현하시오).\n",
        "---\n",
        "실행결과\n",
        "```\n",
        "주어진 리스트는 =  [5, 6, 3, 9, 2, 12, 3, 8, 7]\n",
        "정렬된 결과는 = [2, 3, 3, 5, 6, 7, 8, 9, 12]\n",
        "```"
      ]
    },
    {
      "cell_type": "code",
      "metadata": {
        "id": "kbvNPoVMjx3T",
        "colab_type": "code",
        "outputId": "6ca8e5ad-bc07-4839-d20a-453630f94ad4",
        "colab": {
          "base_uri": "https://localhost:8080/",
          "height": 52
        }
      },
      "source": [
        "n_list = [5, 6, 3, 9, 2, 12, 3, 8, 7]\n",
        "\n",
        "print('정렬전 리스트 :', n_list)\n",
        "\n",
        "for i in range(0, len(n_list)-1):\n",
        "  for j in range(0, len(n_list)-1-i):\n",
        "    if n_list[j] > n_list[j+1] :\n",
        "      n_list[j], n_list[j+1] = n_list[j+1], n_list[j]\n",
        "    \n",
        "print('정렬된 리스트 :', n_list)"
      ],
      "execution_count": 0,
      "outputs": [
        {
          "output_type": "stream",
          "text": [
            "정렬전 리스트 : [5, 6, 3, 9, 2, 12, 3, 8, 7]\n",
            "정렬된 리스트 : [2, 3, 3, 5, 6, 7, 8, 9, 12]\n"
          ],
          "name": "stdout"
        }
      ]
    },
    {
      "cell_type": "markdown",
      "metadata": {
        "id": "EajseMyPy2Ay",
        "colab_type": "text"
      },
      "source": [
        "## 6.14 앞서 작성한 버블 정렬 문제에서 정렬되기 전의 원소를 왼쪽에 두고 정렬된 원소를 오른쪽 리스트에 두어 각 단계별로 정렬이 진행되는 과정을 다음과 같이 시각화하시오.\n",
        "---\n",
        "\n",
        "```\n",
        "정렬전 리스트 : [5, 6, 31, 9, 2, 12, 13, 8, 7]\n",
        "1 단계 : [5, 6, 9, 2, 12, 13, 8, 7], [31]\n",
        "2 단계 : [5, 6, 2, 9, 12, 8, 7], [13, 31]\n",
        "3 단계 : [5, 2, 6, 9, 8, 7], [12, 13, 31]\n",
        "4 단계 : [2, 5, 6, 8, 7], [9, 12, 13, 31]\n",
        "5 단계 : [2, 5, 6, 7], [8, 9, 12, 13, 31]\n",
        "6 단계 : [2, 5, 6], [7, 8, 9, 12, 13, 31]\n",
        "7 단계 : [2, 5], [6, 7, 8, 9, 12, 13, 31]\n",
        "8 단계 : [2], [5, 6, 7, 8, 9, 12, 13, 31]\n",
        "정렬된 리스트 :  [2, 5, 6, 7, 8, 9, 12, 13, 31]\n",
        "```\n",
        "\n"
      ]
    },
    {
      "cell_type": "code",
      "metadata": {
        "id": "xUcmQTq7zK0W",
        "colab_type": "code",
        "outputId": "8cc5b6fb-e2c1-41a7-d665-4f43ff9a3924",
        "colab": {
          "base_uri": "https://localhost:8080/",
          "height": 193
        }
      },
      "source": [
        "n_list = [5, 6, 31, 9, 2, 12, 13, 8, 7]\n",
        "\n",
        "print('정렬전 리스트 :', n_list)\n",
        "\n",
        "for i in range(0, len(n_list)-1):\n",
        "  for j in range(0, len(n_list)-1-i):\n",
        "    if n_list[j] > n_list[j+1] :\n",
        "      n_list[j], n_list[j+1] = n_list[j+1], n_list[j]\n",
        "  print('{} 단계 : {}, {}'.format(i+1, n_list[0:-(i+1)], n_list[-(i+1):]))\n",
        "    \n",
        "print('정렬된 리스트 : ', n_list)"
      ],
      "execution_count": 0,
      "outputs": [
        {
          "output_type": "stream",
          "text": [
            "정렬전 리스트 : [5, 6, 31, 9, 2, 12, 13, 8, 7]\n",
            "1 단계 : [5, 6, 9, 2, 12, 13, 8, 7], [31]\n",
            "2 단계 : [5, 6, 2, 9, 12, 8, 7], [13, 31]\n",
            "3 단계 : [5, 2, 6, 9, 8, 7], [12, 13, 31]\n",
            "4 단계 : [2, 5, 6, 8, 7], [9, 12, 13, 31]\n",
            "5 단계 : [2, 5, 6, 7], [8, 9, 12, 13, 31]\n",
            "6 단계 : [2, 5, 6], [7, 8, 9, 12, 13, 31]\n",
            "7 단계 : [2, 5], [6, 7, 8, 9, 12, 13, 31]\n",
            "8 단계 : [2], [5, 6, 7, 8, 9, 12, 13, 31]\n",
            "정렬된 리스트 :  [2, 5, 6, 7, 8, 9, 12, 13, 31]\n"
          ],
          "name": "stdout"
        }
      ]
    },
    {
      "cell_type": "markdown",
      "metadata": {
        "id": "592JpxU-Ut35",
        "colab_type": "text"
      },
      "source": [
        "## 6.15 어떤 튜플이 주어졌을 때, 처음에는 튜플 전체를, 그 다음에는 마지막 한 원소를 제외하고, 그리고 그 다음 단계에는 마지막 두 원소를 제외하고 출력하는 코드를 슬라이싱을 이용하여 작성해 보라.\n",
        "---\n",
        "```\n",
        "(4, 5, 2, 3, 8, 1, 9, 0)\n",
        "(4, 5, 2, 3, 8, 1, 9)\n",
        "(4, 5, 2, 3, 8, 1)\n",
        "(4, 5, 2, 3, 8)\n",
        "(4, 5, 2, 3)\n",
        "(4, 5, 2)\n",
        "(4, 5)\n",
        "(4,)\n",
        "```"
      ]
    },
    {
      "cell_type": "code",
      "metadata": {
        "id": "VQSizOEuVRnN",
        "colab_type": "code",
        "outputId": "e93c0a08-d3ed-4376-e0fc-e0d1b1affc53",
        "colab": {
          "base_uri": "https://localhost:8080/",
          "height": 158
        }
      },
      "source": [
        "asorted_tuple = ( 4, 5, 2, 3, 8, 1, 9, 0)\n",
        "\n",
        "for i in range(len(asorted_tuple)) :\n",
        "  sub = asorted_tuple[0:len(asorted_tuple)-i]\n",
        "  print(sub)"
      ],
      "execution_count": 0,
      "outputs": [
        {
          "output_type": "stream",
          "text": [
            "(4, 5, 2, 3, 8, 1, 9, 0)\n",
            "(4, 5, 2, 3, 8, 1, 9)\n",
            "(4, 5, 2, 3, 8, 1)\n",
            "(4, 5, 2, 3, 8)\n",
            "(4, 5, 2, 3)\n",
            "(4, 5, 2)\n",
            "(4, 5)\n",
            "(4,)\n"
          ],
          "name": "stdout"
        }
      ]
    },
    {
      "cell_type": "markdown",
      "metadata": {
        "id": "2LnzXPz40bht",
        "colab_type": "text"
      },
      "source": [
        "## 6.16 튜플을 원소로 가지는 student_tuple 튜플이 있다. 이 튜플의 원소 튜플은 (학번, 이름, 전화번호)로 이루어져 있다. 데이터의 예는 아래와 같다. 이를 이용하여 (학번:이름)의 딕셔너리를 만들고 학번을 입력하면 학생의 이름이 나오도록 하라.\n",
        "---\n",
        "### 주어진 데이터\n",
        "```\n",
        "student_tuple = (('191101', '홍길동', '010-123-45xx'), ('191102', '임꺽정', '010-223-45xx'), ('191103', '장길산', '010-323-45xx') )\n",
        "\n",
        "```\n",
        "\n",
        "### (힌트 : 튜플을 이용하여 딕셔너리를 만드는 방법은 다음과 같다.)\n",
        "```\n",
        "a = ('key1', 'value1')\n",
        "b = ('key2', 'value2')\n",
        "dictionary = dict((a, b))\n",
        "print(dictionary)\n",
        "----\n",
        "{'key1': 'value1', 'key2': 'value2'}\n",
        "```\n",
        "\n",
        "### 이 프로그램은 다음과 같이 학번을 입력하면 이름을 출력하는 기능을 가지며, 학번 값으로 음수가 입력되면 프로그램이 종료된다.\n",
        "---\n",
        "실행 결과\n",
        "```\n",
        "학생 정보: {'191101': '홍길동', '191102': '임꺽정', '191103': '장길산'}\n",
        "학번을 입력하세요 : 191102\n",
        "191102번 학생은 임꺽정입니다.\n",
        "학번을 입력하세요 : 191106\n",
        "해당 학번의 학생이 없습니다.\n",
        "학번을 입력하세요 : -1\n",
        "프로그램을 종료합니다.\n",
        "```"
      ]
    },
    {
      "cell_type": "code",
      "metadata": {
        "id": "imv6NCGMgKx-",
        "colab_type": "code",
        "outputId": "ada631c9-232b-43fc-dd50-41e8d2712df3",
        "colab": {
          "base_uri": "https://localhost:8080/",
          "height": 175
        }
      },
      "source": [
        "student_tuple = (('191101', '홍길동', '010-123-45xx'), ('191102', '임꺽정', '010-223-45xx'), ('191103', '장길산', '010-323-45xx') )\n",
        "student_dict = dict( (num, name) for num, name, tel in student_tuple)\n",
        "\n",
        "print('학생 정보:', student_dict)\n",
        "do = True\n",
        "\n",
        "while do:\n",
        "  id = input('학번을 입력하세요 : ')\n",
        "  if id in student_dict:\n",
        "    print('{}번 학생은 {}입니다.'.format(id, student_dict[id]))\n",
        "  elif int(id) < 0:\n",
        "    print('프로그램을 종료합니다.')\n",
        "    do = False\n",
        "  else:\n",
        "    print('해당 학번의 학생이 없습니다.')"
      ],
      "execution_count": 0,
      "outputs": [
        {
          "output_type": "stream",
          "text": [
            "학생 정보: {'191101': '홍길동', '191102': '임꺽정', '191103': '장길산'}\n",
            "학번을 입력하세요 : 191102\n",
            "191102번 학생은 임꺽정입니다.\n",
            "학번을 입력하세요 : 19113\n",
            "해당 학번의 학생이 없습니다.\n",
            "학번을 입력하세요 : 191103\n",
            "191103번 학생은 장길산입니다.\n",
            "학번을 입력하세요 : -1\n",
            "프로그램을 종료합니다.\n"
          ],
          "name": "stdout"
        }
      ]
    },
    {
      "cell_type": "markdown",
      "metadata": {
        "id": "O-cNxLqcUxvo",
        "colab_type": "text"
      },
      "source": [
        "## 6.17 어느 마을의 인구구성을 나타내는 튜플이 있다. 이 튜플은 0세에서 9세까지의 인구수가 첫 번째 원소가 되고, 두 번째 원소는 10세에서 19세, 즉 10대의 인구이다. 세 번째 원소는 20세에서 29세인 20대의 인구수이며, i+1 번째 원소는 10i세에서 10i+9세까지의 인구수를 담고 있다. 마지막 원소는 11번째 원소로 100세 이상의 인구 모두가 포함된다. A 마을과 B 마을의 인구 구성을 담고 있는 튜플이 다음과 같다고 하자.\n",
        "---\n",
        "```\n",
        "population_A = (100, 150, 230, 120, 180, 100, 140, 95, 81, 21, 4)\n",
        "population_B = (300, 420, 530, 420, 400, 300, 40, 5, 1, 1, 1)\n",
        "\n",
        "```\n",
        "\n",
        "### (1) 두 마을에서 선거가 치뤄진다. 선거는 만 20세 이상의 주민에게 권리가 주어진다고 하자. 슬라이싱(slicing)을 이용하여 두 마을에 보내야 하는 투표용지의 개수는 각각 얼마인지 계산하라.\n",
        "---\n",
        "실행 결과\n",
        "\n",
        "\n",
        "```\n",
        "마을 A와 B에 보낼 투표용지의 개수는 각각 971 장과 1778 장입니다.\n",
        "```\n",
        "\n"
      ]
    },
    {
      "cell_type": "code",
      "metadata": {
        "id": "WKjwIRzfZXdc",
        "colab_type": "code",
        "outputId": "0adb5adf-55b3-45b5-af81-4732271024e2",
        "colab": {
          "base_uri": "https://localhost:8080/",
          "height": 35
        }
      },
      "source": [
        "population_a = (100, 150, 230, 120, 180, 100, 140, 95, 81, 21, 4)\n",
        "population_b = (300, 420, 530, 420, 400, 300, 40, 5, 1, 1, 1)\n",
        "ballotA = sum(population_a[2:])\n",
        "ballotB = sum(population_b[2:])\n",
        "\n",
        "print('마을 A와 B에 보낼 투표용지의 개수는 각각 {} 장과 {} 장입니다.'.format(ballotA, ballotB))"
      ],
      "execution_count": 0,
      "outputs": [
        {
          "output_type": "stream",
          "text": [
            "마을 A와 B에 보낼 투표용지의 개수는 각각 971 장과 1698 장입니다.\n"
          ],
          "name": "stdout"
        }
      ]
    },
    {
      "cell_type": "markdown",
      "metadata": {
        "id": "13Lg-sIfZDgQ",
        "colab_type": "text"
      },
      "source": [
        "### (2) 각각의 마을의 노령화 정도를 비교하자. 노령화 정도는 전체 인구에서 70세 이상의 노인 인구가 차지하는 비율로 표현한다고 가정하자. 다음과 같은 결과가 나오도록 프로그램을 작성하라. (역시 슬라이싱을 이용하여 데이터에서 필요한 부분을 추출해 온다.)\n",
        "---\n",
        "실행결과\n",
        "\n",
        "```\n",
        "마을 A와 B의 고령화 정도는 각각 0.165와 0.003입니다.\n",
        "```"
      ]
    },
    {
      "cell_type": "code",
      "metadata": {
        "id": "YA399dsqWq2p",
        "colab_type": "code",
        "outputId": "3ec40848-8fb5-429b-cacc-767bc0fae78f",
        "colab": {
          "base_uri": "https://localhost:8080/",
          "height": 35
        }
      },
      "source": [
        "population_a = (100, 150, 230, 120, 180, 100, 140, 95, 81, 21, 4)\n",
        "population_b = (300, 420, 530, 420, 400, 300, 40, 5, 1, 1, 1)\n",
        "oldA = sum(population_a[7:])\n",
        "oldB = sum(population_b[7:])\n",
        "sumA, sumB = sum(population_a), sum(population_b)\n",
        "\n",
        "oldRateA, oldRateB = oldA/sumA, oldB/sumB\n",
        "\n",
        "print('마을 A와 B의 고령화 정도는 각각 {:5.3f}와 {:5.3f}입니다.'.format(oldRateA, oldRateB))"
      ],
      "execution_count": 0,
      "outputs": [
        {
          "output_type": "stream",
          "text": [
            "마을 A와 B의 고령화 정도는 각각 0.165와 0.003입니다.\n"
          ],
          "name": "stdout"
        }
      ]
    },
    {
      "cell_type": "markdown",
      "metadata": {
        "id": "YDvrudClT7bD",
        "colab_type": "text"
      },
      "source": [
        "## 6.18 다음 코드의 수행 결과를 적으시오. 이 중에서 에러가 발생하는 부분은 어느 부분인가?\n",
        "---\n",
        "```\n",
        ">>> s1 = set('abcd')\n",
        ">>> s1\n",
        "(1) _____________________________________\n",
        ">>> s2 = set('defg')\n",
        ">>> s2\n",
        "(2) _____________________________________\n",
        ">>> s1 == s2\n",
        "(3) _____________________________________\n",
        ">>> s1 + s2\n",
        "(4) _____________________________________\n",
        ">>> s1 & s2\n",
        "(5) _____________________________________\n",
        "```\n",
        "\n"
      ]
    },
    {
      "cell_type": "code",
      "metadata": {
        "id": "Q_iPAbXgUEYr",
        "colab_type": "code",
        "outputId": "e457189d-e075-41ec-a358-e6473fef2e60",
        "colab": {
          "base_uri": "https://localhost:8080/",
          "height": 36
        }
      },
      "source": [
        "s1 = set('abcd')\n",
        "s1"
      ],
      "execution_count": 0,
      "outputs": [
        {
          "output_type": "execute_result",
          "data": {
            "text/plain": [
              "{'a', 'b', 'c', 'd'}"
            ]
          },
          "metadata": {
            "tags": []
          },
          "execution_count": 58
        }
      ]
    },
    {
      "cell_type": "code",
      "metadata": {
        "id": "8tikMGZtUHU7",
        "colab_type": "code",
        "outputId": "c756aa1e-c4e6-41b3-b4c9-c7fbcc03cd7e",
        "colab": {
          "base_uri": "https://localhost:8080/",
          "height": 36
        }
      },
      "source": [
        "s2 = set('defg')\n",
        "s2"
      ],
      "execution_count": 0,
      "outputs": [
        {
          "output_type": "execute_result",
          "data": {
            "text/plain": [
              "{'d', 'e', 'f', 'g'}"
            ]
          },
          "metadata": {
            "tags": []
          },
          "execution_count": 59
        }
      ]
    },
    {
      "cell_type": "code",
      "metadata": {
        "id": "iczioNQAUKJb",
        "colab_type": "code",
        "outputId": "ad40b05e-e493-46b3-8a4e-f7217cf38279",
        "colab": {
          "base_uri": "https://localhost:8080/",
          "height": 36
        }
      },
      "source": [
        "s1 == s2"
      ],
      "execution_count": 0,
      "outputs": [
        {
          "output_type": "execute_result",
          "data": {
            "text/plain": [
              "False"
            ]
          },
          "metadata": {
            "tags": []
          },
          "execution_count": 60
        }
      ]
    },
    {
      "cell_type": "code",
      "metadata": {
        "id": "U7O-Gk-uULkr",
        "colab_type": "code",
        "outputId": "9f250a6e-49e6-4493-b151-d8b11abcb761",
        "colab": {
          "base_uri": "https://localhost:8080/",
          "height": 176
        }
      },
      "source": [
        "s1 + s2"
      ],
      "execution_count": 0,
      "outputs": [
        {
          "output_type": "error",
          "ename": "TypeError",
          "evalue": "ignored",
          "traceback": [
            "\u001b[0;31m---------------------------------------------------------------------------\u001b[0m",
            "\u001b[0;31mTypeError\u001b[0m                                 Traceback (most recent call last)",
            "\u001b[0;32m<ipython-input-61-07ecabcb1b41>\u001b[0m in \u001b[0;36m<module>\u001b[0;34m()\u001b[0m\n\u001b[0;32m----> 1\u001b[0;31m \u001b[0ms1\u001b[0m \u001b[0;34m+\u001b[0m \u001b[0ms2\u001b[0m\u001b[0;34m\u001b[0m\u001b[0;34m\u001b[0m\u001b[0m\n\u001b[0m",
            "\u001b[0;31mTypeError\u001b[0m: unsupported operand type(s) for +: 'set' and 'set'"
          ]
        }
      ]
    },
    {
      "cell_type": "code",
      "metadata": {
        "id": "Vdgl05i2UNH3",
        "colab_type": "code",
        "outputId": "adde0a6d-fd4d-4c18-9ab4-84b9277bc936",
        "colab": {
          "base_uri": "https://localhost:8080/",
          "height": 36
        }
      },
      "source": [
        "s1 & s2"
      ],
      "execution_count": 0,
      "outputs": [
        {
          "output_type": "execute_result",
          "data": {
            "text/plain": [
              "{'d'}"
            ]
          },
          "metadata": {
            "tags": []
          },
          "execution_count": 62
        }
      ]
    },
    {
      "cell_type": "markdown",
      "metadata": {
        "id": "C9CYWHikUnfx",
        "colab_type": "text"
      },
      "source": [
        "## 6.19 다음과 같은 집합에 대한 연산을 적용할 적에, 다음 밑줄 친 부분에 들어갈 알맞은 결과는 무엇인가?\n",
        "---\n",
        "```\n",
        ">>> s1 = {0, 1, 2, 3, 4, 5}\n",
        ">>> s2 = {3, 4, 5, 6, 7}\n",
        ">>> s1 & s2\n",
        "(1) ___________________________\n",
        ">>> s1 | s2\n",
        "(2) ___________________________\n",
        ">>> s2 - s1\n",
        "(3) ___________________________\n",
        ">>> s1 - s2\n",
        "(4) ___________________________\n",
        ">>> s1 ^ s2\n",
        "(5) ___________________________\n",
        ">>> 2 in s1\n",
        "(6) ___________________________\n",
        "```\n",
        "\n"
      ]
    },
    {
      "cell_type": "code",
      "metadata": {
        "id": "y-QJlZmJUvIQ",
        "colab_type": "code",
        "outputId": "02a03f32-a7c2-45fc-e221-28c90fe203a7",
        "colab": {
          "base_uri": "https://localhost:8080/",
          "height": 36
        }
      },
      "source": [
        "s1 = {0, 1, 2, 3, 4, 5}\n",
        "s2 = s2 = {3, 4, 5, 6, 7}\n",
        "s1 & s2"
      ],
      "execution_count": 0,
      "outputs": [
        {
          "output_type": "execute_result",
          "data": {
            "text/plain": [
              "{3, 4, 5}"
            ]
          },
          "metadata": {
            "tags": []
          },
          "execution_count": 63
        }
      ]
    },
    {
      "cell_type": "code",
      "metadata": {
        "id": "u_XF4VtBU0Nz",
        "colab_type": "code",
        "outputId": "8983ba38-8f06-4dbb-c0fc-302aaab46f98",
        "colab": {
          "base_uri": "https://localhost:8080/",
          "height": 36
        }
      },
      "source": [
        "s1 | s2"
      ],
      "execution_count": 0,
      "outputs": [
        {
          "output_type": "execute_result",
          "data": {
            "text/plain": [
              "{0, 1, 2, 3, 4, 5, 6, 7}"
            ]
          },
          "metadata": {
            "tags": []
          },
          "execution_count": 64
        }
      ]
    },
    {
      "cell_type": "code",
      "metadata": {
        "id": "LkHYQaeQU2cZ",
        "colab_type": "code",
        "outputId": "73635867-3650-40b8-b98d-d2b17265c3c5",
        "colab": {
          "base_uri": "https://localhost:8080/",
          "height": 36
        }
      },
      "source": [
        "s2 - s1"
      ],
      "execution_count": 0,
      "outputs": [
        {
          "output_type": "execute_result",
          "data": {
            "text/plain": [
              "{6, 7}"
            ]
          },
          "metadata": {
            "tags": []
          },
          "execution_count": 65
        }
      ]
    },
    {
      "cell_type": "code",
      "metadata": {
        "id": "Vwx_KV6wU4XE",
        "colab_type": "code",
        "outputId": "ed6ea779-4aaf-4e28-cfb7-08aababda18e",
        "colab": {
          "base_uri": "https://localhost:8080/",
          "height": 36
        }
      },
      "source": [
        "s1 - s2"
      ],
      "execution_count": 0,
      "outputs": [
        {
          "output_type": "execute_result",
          "data": {
            "text/plain": [
              "{0, 1, 2}"
            ]
          },
          "metadata": {
            "tags": []
          },
          "execution_count": 66
        }
      ]
    },
    {
      "cell_type": "code",
      "metadata": {
        "id": "F5q34v5UU6Ck",
        "colab_type": "code",
        "outputId": "d34f9355-95f2-4f39-f09a-053a213f1a8b",
        "colab": {
          "base_uri": "https://localhost:8080/",
          "height": 36
        }
      },
      "source": [
        "s1 ^ s2"
      ],
      "execution_count": 0,
      "outputs": [
        {
          "output_type": "execute_result",
          "data": {
            "text/plain": [
              "{0, 1, 2, 6, 7}"
            ]
          },
          "metadata": {
            "tags": []
          },
          "execution_count": 67
        }
      ]
    },
    {
      "cell_type": "code",
      "metadata": {
        "id": "pZsUZXE9U9Ks",
        "colab_type": "code",
        "outputId": "db90457d-caa4-4e9b-d4fe-916b9bf9f090",
        "colab": {
          "base_uri": "https://localhost:8080/",
          "height": 36
        }
      },
      "source": [
        "2 in s1"
      ],
      "execution_count": 0,
      "outputs": [
        {
          "output_type": "execute_result",
          "data": {
            "text/plain": [
              "True"
            ]
          },
          "metadata": {
            "tags": []
          },
          "execution_count": 68
        }
      ]
    },
    {
      "cell_type": "markdown",
      "metadata": {
        "id": "8lOfcvBws1XG",
        "colab_type": "text"
      },
      "source": [
        "## 6.20 학생의 이름과 국어, 수학, 과학 성적이 하나의 튜플을 이룬다. 이렇게 튜플로 표시된 학생의 성적을 원소로 하는 튜플 scores가 아래와 같이 있다.\n",
        "---\n",
        "```\n",
        "scores = ( ('박동규', 88, 95, 90), ('강영민', 85, 90, 95), ('박동민', 70, 90, 80), ('홍승주', 90, 90, 95))\n",
        "```\n",
        "\n"
      ]
    },
    {
      "cell_type": "markdown",
      "metadata": {
        "id": "MXi1AszAWOWL",
        "colab_type": "text"
      },
      "source": [
        "### 1) 이러한 튜플을 zip() 함수를 사용하여 언패킹하여 수학 성적만 추출한 뒤에 수학 성적의 평균을 구하는 코드를 작성하라.\n",
        "실행 결과\n",
        "\n",
        "\n",
        "```\n",
        "학생들의 수학 성적의 평균은 91.25입니다.\n",
        "```\n"
      ]
    },
    {
      "cell_type": "code",
      "metadata": {
        "id": "0Vjudd-at98M",
        "colab_type": "code",
        "outputId": "b1bb2ae1-eb42-4005-8d15-b7deaa603e59",
        "colab": {
          "base_uri": "https://localhost:8080/",
          "height": 34
        }
      },
      "source": [
        "scores = ( ('박동규', 88, 95, 90), ('강영민', 85, 90, 95), ('박동민', 70, 90, 80), ('홍승주', 90, 90, 95))\n",
        "_, _, math, science = zip(*scores)\n",
        "\n",
        "total = 0\n",
        "for i in math: \n",
        "    total += i\n",
        "  \n",
        "print('학생들의 수학 성적의 평균은 {0:5.2f}입니다.'.format(total/len(math)))                            "
      ],
      "execution_count": 3,
      "outputs": [
        {
          "output_type": "stream",
          "text": [
            "학생들의 수학 성적의 평균은 91.25입니다.\n"
          ],
          "name": "stdout"
        }
      ]
    },
    {
      "cell_type": "markdown",
      "metadata": {
        "id": "ATqY2FdrWQW7",
        "colab_type": "text"
      },
      "source": [
        "### 2) 이러한 튜플을 언패킹하여 수학, 과학 성적만 추출한 뒤에 수학과 과학 성적의 평균을 구하는 코드를 작성하라.\n",
        "---\n",
        "실행 결과\n",
        "\n",
        "\n",
        "```\n",
        "학생들의 수학과 과학 성적의 평균은 90.62입니다.\n",
        "```\n",
        "\n"
      ]
    },
    {
      "cell_type": "code",
      "metadata": {
        "id": "y9IypZ_aWJTZ",
        "colab_type": "code",
        "outputId": "3a7e35ec-b80f-4bf6-c4d4-a2912616da98",
        "colab": {
          "base_uri": "https://localhost:8080/",
          "height": 34
        }
      },
      "source": [
        "total = 0\n",
        "for m_score in math: \n",
        "    total += m_score\n",
        "for s_score in science: \n",
        "    total += s_score\n",
        "\n",
        "result = total/(len(math)+len(science))\n",
        "print('학생들의 수학과 과학 성적의 평균은 {0:5.2f}입니다.'.format(result))"
      ],
      "execution_count": 4,
      "outputs": [
        {
          "output_type": "stream",
          "text": [
            "학생들의 수학과 과학 성적의 평균은 90.62입니다.\n"
          ],
          "name": "stdout"
        }
      ]
    },
    {
      "cell_type": "markdown",
      "metadata": {
        "id": "hOFMlId6rvW2",
        "colab_type": "text"
      },
      "source": [
        "### 3) 이러한 튜플에 대하여 학생의 이름과 국어, 수학, 과학 성적의 평균 점수를 student_dic이라는 딕셔너리 구조에 넣은 후 다음과 같이 이름과 평균성적을 출력하여라.\n",
        "---\n",
        "실행 결과\n",
        "\n",
        "\n",
        "```\n",
        "이름         평균성적\n",
        "---------------------\n",
        "박동규        91.00\n",
        "강영민        90.00\n",
        "박동민        80.00\n",
        "홍승주        91.67\n",
        "```\n",
        "\n"
      ]
    },
    {
      "cell_type": "code",
      "metadata": {
        "id": "Z_j11_sqpnx0",
        "colab_type": "code",
        "outputId": "6211527f-c9d7-4e82-fe77-e1e2db883f26",
        "colab": {
          "base_uri": "https://localhost:8080/",
          "height": 122
        }
      },
      "source": [
        "scores = ( ('박동규', 88, 95, 90), ('강영민', 85, 90, 95), ('박동민', 70, 90, 80), ('홍승주', 90, 90, 95))\n",
        "\n",
        "student_dic = {}\n",
        "\n",
        "for val in scores:\n",
        "  sum = val[1] + val[2] + val[3]\n",
        "  avg = sum / 3\n",
        "  student_dic[val[0]] = avg\n",
        "  \n",
        "print(\"이름         평균성적\")\n",
        "print(\"---------------------\")\n",
        "for k in student_dic.keys():\n",
        "    print('{}   {:10.2f}'.format(k, student_dic[k]))\n",
        "\n"
      ],
      "execution_count": 0,
      "outputs": [
        {
          "output_type": "stream",
          "text": [
            "이름         평균성적\n",
            "---------------------\n",
            "박동규        91.00\n",
            "강영민        90.00\n",
            "박동민        80.00\n",
            "홍승주        91.67\n"
          ],
          "name": "stdout"
        }
      ]
    },
    {
      "cell_type": "markdown",
      "metadata": {
        "id": "SDtya9Mcvio7",
        "colab_type": "text"
      },
      "source": [
        "## 6.21 어떤 문자열을 뒤집었을 때에 원래의 문자열과 같은 것을 회문(palindrome)이라고 한다. 예를 들어 'mom'은 문자열을 뒤집어도 'mom'이 되므로 회문이다. 어떤 문자열을 입력하면 이 문자열이 회문인지 아닌지 검사하는 코드를 작성하라.\n",
        "---\n",
        "실행 결과\n",
        "```\n",
        "문자열을 입력하시오 : racecar\n",
        "회문입니다.\n",
        "\n",
        "문자열을 입력하시오 : racing\n",
        "회문이 아닙니다.\n",
        "\n",
        "문자열을 입력하시오 : A nut for a jar of tuna\n",
        "회문입니다.\n",
        "\n",
        "```"
      ]
    },
    {
      "cell_type": "code",
      "metadata": {
        "id": "1NWeaIUCwN3z",
        "colab_type": "code",
        "outputId": "8af4fbfc-315e-447b-dee9-57c75f2c59a6",
        "colab": {
          "base_uri": "https://localhost:8080/",
          "height": 50
        }
      },
      "source": [
        "def is_palindrome(string) :\n",
        "  string = string.upper()\n",
        "  string = string.replace(\" \", \"\")  \n",
        "  l = len(string)\n",
        "  for i in range(l):\n",
        "    if string[i] is not string[l-1-i] :\n",
        "      return False\n",
        "  return True\n",
        "\n",
        "string = input('문자열을 입력하시오 : ')\n",
        "if is_palindrome(string):\n",
        "    print('회문입니다.')\n",
        "else:\n",
        "    print('회문이 아닙니다.')"
      ],
      "execution_count": 6,
      "outputs": [
        {
          "output_type": "stream",
          "text": [
            "문자열을 입력하시오 : mom\n",
            "회문입니다.\n"
          ],
          "name": "stdout"
        }
      ]
    },
    {
      "cell_type": "markdown",
      "metadata": {
        "id": "jciIIut2iEMC",
        "colab_type": "text"
      },
      "source": [
        "## 6.22 지금은 세르비아, 슬로베니아, 크로아티아 등으로 분리되어 각각 독립했지만, 20세기 오랜 기간 동안 발칸 반도에는 이 나라들이 유고슬라비아라는 하나의 나라로 묶여 존재하였다. 이 나라 사람들의 이름은 비치(vic)로 끝나는 경우가 많다. 우리는 어떤 사람의 이름이 입력되었을 때, 이 이름이 vic로 끝나는 경우 \"발칸 반도에서 오셨나요?\"라고 물어보는 프로그램을 작성하려고 한다. (힌트: 문자열에 대해 음수 인덱스를 사용한 슬라이싱을 적용하여 구현해 보라.)\n",
        "---\n",
        "실행 결과\n",
        "```\n",
        "이름을 입력하세요 : Sinisa Mihajlovic\n",
        "안녕하세요? Sinisa Mihajlovic 님. 발칸 반도에서 오셨나요?\n",
        "\n",
        "이름을 입력하세요 : Donald Drump\n",
        "안녕하세요? Donald Drump 님.\n",
        "```"
      ]
    },
    {
      "cell_type": "code",
      "metadata": {
        "id": "_Q3cJ3z5kiL5",
        "colab_type": "code",
        "colab": {}
      },
      "source": [
        "name = input(\"이름을 입력하세요 : \")\n",
        "postfix = name[-3:]\n",
        "if postfix == \"vic\" :\n",
        "  print(\"안녕하세요? {} 님. 발칸 반도에서 오셨나요?\".format(name))"
      ],
      "execution_count": 0,
      "outputs": []
    },
    {
      "cell_type": "markdown",
      "metadata": {
        "id": "ZHS_afkhTdlG",
        "colab_type": "text"
      },
      "source": [
        "## 6.23 string 모듈에 정의된 ascii_uppercase는 다음과 같이 알파벳 대문자의 목록이 들어있으며 string.ascii_uppercase로 그 목록을 다음과 같이 문자열 형태로 볼 수 있다.\n",
        "---\n",
        "```\n",
        ">>> import string\n",
        ">>> string.ascii_uppercase\n",
        "'ABCDEFGHIJKLMNOPQRSTUVWXYZ'\n",
        "```\n",
        "\n",
        "##이 문자열에 대하여 문자열 슬라이싱 기능을 사용하여 다음과 같은 텍스트를 출력하여라.\n",
        "---\n",
        "실행 결과\n",
        "```\n",
        "ABCDEFGHIJKLMNOPQRSTUVWXYZ\n",
        "BCDEFGHIJKLMNOPQRSTUVWXYZA\n",
        "CDEFGHIJKLMNOPQRSTUVWXYZAB\n",
        "DEFGHIJKLMNOPQRSTUVWXYZABC\n",
        "EFGHIJKLMNOPQRSTUVWXYZABCD\n",
        "FGHIJKLMNOPQRSTUVWXYZABCDE\n",
        "GHIJKLMNOPQRSTUVWXYZABCDEF\n",
        "HIJKLMNOPQRSTUVWXYZABCDEFG\n",
        "IJKLMNOPQRSTUVWXYZABCDEFGH\n",
        "JKLMNOPQRSTUVWXYZABCDEFGHI\n",
        "```"
      ]
    },
    {
      "cell_type": "code",
      "metadata": {
        "id": "rmmDufcWTlRh",
        "colab_type": "code",
        "outputId": "9dcbda6b-ab68-42ba-a35b-60b60eeaf9a6",
        "colab": {
          "base_uri": "https://localhost:8080/",
          "height": 36
        }
      },
      "source": [
        "import string\n",
        "string.ascii_uppercase"
      ],
      "execution_count": 0,
      "outputs": [
        {
          "output_type": "execute_result",
          "data": {
            "text/plain": [
              "'ABCDEFGHIJKLMNOPQRSTUVWXYZ'"
            ]
          },
          "metadata": {
            "tags": []
          },
          "execution_count": 79
        }
      ]
    },
    {
      "cell_type": "code",
      "metadata": {
        "id": "rDI7V87IVDhG",
        "colab_type": "code",
        "outputId": "0bed981d-ef6c-4086-fa6e-acfaf56eafcc",
        "colab": {
          "base_uri": "https://localhost:8080/",
          "height": 204
        }
      },
      "source": [
        "import string\n",
        "st = string.ascii_uppercase\n",
        "\n",
        "for i in range(10):\n",
        "  s = st[i:]  + st[:i]\n",
        "  print(s)"
      ],
      "execution_count": 0,
      "outputs": [
        {
          "output_type": "stream",
          "text": [
            "ABCDEFGHIJKLMNOPQRSTUVWXYZ\n",
            "BCDEFGHIJKLMNOPQRSTUVWXYZA\n",
            "CDEFGHIJKLMNOPQRSTUVWXYZAB\n",
            "DEFGHIJKLMNOPQRSTUVWXYZABC\n",
            "EFGHIJKLMNOPQRSTUVWXYZABCD\n",
            "FGHIJKLMNOPQRSTUVWXYZABCDE\n",
            "GHIJKLMNOPQRSTUVWXYZABCDEF\n",
            "HIJKLMNOPQRSTUVWXYZABCDEFG\n",
            "IJKLMNOPQRSTUVWXYZABCDEFGH\n",
            "JKLMNOPQRSTUVWXYZABCDEFGHI\n"
          ],
          "name": "stdout"
        }
      ]
    },
    {
      "cell_type": "markdown",
      "metadata": {
        "id": "Q9A8yQU_qNlP",
        "colab_type": "text"
      },
      "source": [
        "## 6.24 (카이사르의 암호문제) 카이사르의 암호는 로마의 장군인 카이사르가 동맹군들과 소통하기 위해 만든 암호인데, 간단한 치환암호의 일종이다. 이 암호는 암호화하고자 하는 내용을 알파벳 별로 일정한 거리만큼 밀어서 다른 알파벳으로 치환하는 방식이다. 예를 들어 알파벳 A가 있을 경우 알파벳에서 3칸 이동한 알파벳 D로 표기할 수 있다. 이 방식의 경우 다음과 같이 대응되는 치환식을 사용한다.\n",
        "\n",
        "### 1) string 모듈에 정의된 ascii_uppercase를 사용하여 src_str을 만들고, 리스트 슬라이싱 기능을 사용하여 3칸 이동한 dst_str 문자열을 만들어서 다음과 같이 출력하여라.\n",
        "---\n",
        "실행 결과\n",
        "```\n",
        "src_str = ABCDEFGHIJKLMNOPQRSTUVWXYZ\n",
        "dst_str = DEFGHIJKLMNOPQRSTUVWXYZABC\n",
        "```\n",
        "\n"
      ]
    },
    {
      "cell_type": "code",
      "metadata": {
        "id": "TMnHgJ-AqM57",
        "colab_type": "code",
        "outputId": "e5d3aef4-4907-4ef2-faec-49990c64fd10",
        "colab": {
          "base_uri": "https://localhost:8080/",
          "height": 52
        }
      },
      "source": [
        "import string\n",
        "src_str = string.ascii_uppercase\n",
        "print('src_str =', src_str)\n",
        "dst_str = src_str[3:] + src_str[:3]\n",
        "print('dst_str =', dst_str)"
      ],
      "execution_count": 0,
      "outputs": [
        {
          "output_type": "stream",
          "text": [
            "src_str = ABCDEFGHIJKLMNOPQRSTUVWXYZ\n",
            "dst_str = DEFGHIJKLMNOPQRSTUVWXYZABC\n"
          ],
          "name": "stdout"
        }
      ]
    },
    {
      "cell_type": "markdown",
      "metadata": {
        "id": "BT6EWgWRrMOF",
        "colab_type": "text"
      },
      "source": [
        "### 2) ‘A’라는 문자열과 'B'라는 문자열에 대하여 src_str내의 인덱스를 index() 함수를 사용하여 구한 후 이 인덱스를 출력하여라. 그리고 이 인덱스에 0과 1에 해당되는 dst_str 문자열의 문자를 출력하여라. 이러한 작업을 하는 함수 ciper(a)를 구현하여 다음의 내용을 출력하여라.\n",
        "---\n",
        "실행 결과\n",
        "```\n",
        "src_str의 A 인덱스 : 0\n",
        "dst_str의 0번째 알파벳 : D\n",
        "src_str의 B 인덱스 : 1\n",
        "dst_str의 1번째 알파벳 : E\n",
        "```\n",
        "\n"
      ]
    },
    {
      "cell_type": "code",
      "metadata": {
        "id": "lzqWeaSzrPth",
        "colab_type": "code",
        "outputId": "59ddea17-5249-4bda-c091-081f956dda75",
        "colab": {
          "base_uri": "https://localhost:8080/",
          "height": 87
        }
      },
      "source": [
        "def ciper(a):\n",
        "  idx = src_str.index(a)\n",
        "  return dst_str[idx]\n",
        "\n",
        "alphabet = 'A'\n",
        "idx = src_str.index(alphabet)\n",
        "print('src_str의 {} 인덱스 : {}'.format(alphabet, idx) )\n",
        "print('dst_str의 {}번째 알파벳 : {}'.format(idx, ciper(alphabet)))\n",
        "\n",
        "alphabet = 'B'\n",
        "idx = src_str.index(alphabet)\n",
        "print('src_str의 {} 인덱스 : {}'.format(alphabet, idx) )\n",
        "print('dst_str의 {}번째 알파벳 : {}'.format(idx, ciper(alphabet)))"
      ],
      "execution_count": 0,
      "outputs": [
        {
          "output_type": "stream",
          "text": [
            "src_str의 A 인덱스 : 0\n",
            "dst_str의 0번째 알파벳 : D\n",
            "src_str의 B 인덱스 : 1\n",
            "dst_str의 1번째 알파벳 : E\n"
          ],
          "name": "stdout"
        }
      ]
    },
    {
      "cell_type": "markdown",
      "metadata": {
        "id": "cLBFZCY1tibd",
        "colab_type": "text"
      },
      "source": [
        "### 3) 위의 ciper(a) 함수를 이용하여 사용자로부터 입력받은 문자열을 암호화하는 다음 프로그램을 작성하여라. 이때 알파벳을 제외한 부분은 입력된 바와 같이 출력하시오.\n",
        "---\n",
        "실행 결과\n",
        "```\n",
        "문장을 입력하시오: ATTACK TONIGHT!\n",
        "암호화된 문장 : DWWDFN WRQLJKW!\n",
        "```\n",
        "\n"
      ]
    },
    {
      "cell_type": "code",
      "metadata": {
        "id": "fo4R05wDtkx6",
        "colab_type": "code",
        "outputId": "4131de94-6800-401c-f989-eb27dd9ccadf",
        "colab": {
          "base_uri": "https://localhost:8080/",
          "height": 55
        }
      },
      "source": [
        "import string\n",
        "\n",
        "src_str = string.ascii_uppercase\n",
        "dst_str = src_str[3:] + src_str[:3]\n",
        "\n",
        "src = input('문장을 입력하시오: ')\n",
        "print('암호화된 문장 : ', end='')\n",
        "\n",
        "for ch in src:\n",
        "  if ch in src_str:\n",
        "    print(ciper(ch), end='')\n",
        "  else:\n",
        "    print(ch, end='')\n",
        "    \n",
        "print()"
      ],
      "execution_count": 0,
      "outputs": [
        {
          "output_type": "stream",
          "text": [
            "문장을 입력하시오: ATTACK TONIGHT!\n",
            "암호화된 문장 : DWWDFN WRQLJKW!\n"
          ],
          "name": "stdout"
        }
      ]
    },
    {
      "cell_type": "markdown",
      "metadata": {
        "id": "-zwwW0P3bn4-",
        "colab_type": "text"
      },
      "source": [
        "### 4) 위의 암호화 기법을 이용하여 암호화된 문장을 입력으로 받아서 이를 해독하는 프로그램을 작성하시오.\n",
        "---\n",
        "실행 결과\n",
        "\n",
        "\n",
        "```\n",
        "암호화된 문장을 입력하시오: DWWDFN WRQLJKW!\n",
        "해독된 문장: ATTACK TONIGHT!\n",
        "```\n",
        "\n"
      ]
    },
    {
      "cell_type": "code",
      "metadata": {
        "id": "gRsEXO5hbpDK",
        "colab_type": "code",
        "outputId": "7305831a-265b-4cb6-865d-525b39540e87",
        "colab": {
          "base_uri": "https://localhost:8080/",
          "height": 55
        }
      },
      "source": [
        "import string\n",
        "\n",
        "def deciper(a):\n",
        "  idx = src_str.index(a)\n",
        "  return dst_str[idx]\n",
        "\n",
        "src_str = string.ascii_uppercase\n",
        "dst_str = src_str[-3:] + src_str[:-3]\n",
        "\n",
        "src = input('암호화된 문장을 입력하시오 : ')\n",
        "print('해독된 문장 : ', end='')\n",
        "\n",
        "for ch in src:\n",
        "  if ch in src_str:\n",
        "    print(deciper(ch), end='')\n",
        "  else:\n",
        "    print(ch, end='')\n",
        "    \n",
        "print()"
      ],
      "execution_count": 0,
      "outputs": [
        {
          "output_type": "stream",
          "text": [
            "암호화된 문장을 입력하시오 : DWWDFN WRQLJKW!\n",
            "해독된 문장 : ATTACK TONIGHT!\n"
          ],
          "name": "stdout"
        }
      ]
    },
    {
      "cell_type": "markdown",
      "metadata": {
        "id": "Av_TLmqX0wMr",
        "colab_type": "text"
      },
      "source": [
        "### 5) 위의 암호화 기법을 대문자와 소문자 모두에 대해 적용하여라. 즉 아래 수행 결과와 같이 대문자 A는 대문자 D로, 소문자 a는 소문자 d로 출력하여라. 이를 구현하기 위하여 다음과 같은 기능을 참조하여라.\n",
        "---\n",
        "\n",
        "\n",
        "```\n",
        ">>> import string\n",
        ">>> src_str = string.ascii_uppercase + string.ascii_lowercase\n",
        ">>> src_str\n",
        "'ABCDEFGHIJKLMNOPQRSTUVWXYZabcdefghijklmnopqrstuvwxyz'\n",
        "```\n",
        "---\n",
        "실행 결과\n",
        "\n",
        "\n",
        "```\n",
        "문장을 입력하시오: Attack tonight!\n",
        "암호화된 문장: Dwwdfn wrqljkw!\n",
        "```\n",
        "\n",
        "\n",
        "\n"
      ]
    },
    {
      "cell_type": "code",
      "metadata": {
        "id": "AkGlj_9Uzq0D",
        "colab_type": "code",
        "outputId": "a9d042bd-8454-46af-85c1-b3628057fbc8",
        "colab": {
          "base_uri": "https://localhost:8080/",
          "height": 52
        }
      },
      "source": [
        "import string\n",
        "\n",
        "def ciper(a):\n",
        "  idx = src_str.index(a)\n",
        "  return dst_str[idx]\n",
        "\n",
        "src_str = string.ascii_uppercase + string.ascii_lowercase\n",
        "dst_str = src_str[3:] + src_str[:3]\n",
        "\n",
        "src = input('문장을 입력하시오: ')\n",
        "print('암호화된 문장 : ', end='')\n",
        "\n",
        "for ch in src:\n",
        "  if ch in src_str:\n",
        "    print(ciper(ch), end='')\n",
        "  else:\n",
        "    print(ch, end='')\n",
        "    \n",
        "print()"
      ],
      "execution_count": 0,
      "outputs": [
        {
          "output_type": "stream",
          "text": [
            "문장을 입력하시오: Veni, vidi, vici\n",
            "암호화된 문장 : Yhql, ylgl, ylfl\n"
          ],
          "name": "stdout"
        }
      ]
    },
    {
      "cell_type": "markdown",
      "metadata": {
        "id": "wHOeW3q9WCzq",
        "colab_type": "text"
      },
      "source": [
        "## 6.25 영한사전과 같이 영어 단어를 주면, 이에 해당하는 우리말 단어를 알 수 있게 하려고 한다. 딕셔너리 구조를 활용하여 단어를 입력하고, 검색할 수 있는 프로그램을 작성해 보라. 실행된 결과는 명령 프롬프트 '$가 나타나며, 입력 명령은 '<', 검색 명령은 '>'로 표현한다. 입력은 \"영어 단어:우리말 단어\" 형태로 이루어지며, 검색은 영어 단어를 입력한다. 실행은 다음과 같은 형태로 이루어진다.\n",
        "---\n",
        "\n",
        "실행 결과\n",
        "```\n",
        "사전 프로그램 시작... 종료는 q를 입력\n",
        "$ < boy:소년\n",
        "$ < girl:소녀\n",
        "$ < man:남자, 사람\n",
        "$ < woman:여자\n",
        "$ < house:집\n",
        "$ < Korea:한국\n",
        "$ > boy\n",
        "소년\n",
        "$ > body\n",
        "body가 사전에 없습니다.\n",
        "$ man\n",
        "입력 오류가 발생했습니다.\n",
        "$ > man\n",
        "남자, 사람\n",
        "$ q\n",
        "사전 프로그램을 종료합니다.\n",
        "```"
      ]
    },
    {
      "cell_type": "code",
      "metadata": {
        "id": "rcN2PRa6XkNJ",
        "colab_type": "code",
        "outputId": "efb666dc-cee8-45c1-e6a6-b47c8d58e1e0",
        "colab": {
          "base_uri": "https://localhost:8080/",
          "height": 260
        }
      },
      "source": [
        "print(\"사전 프로그램 시작... 종료는 q를 입력\")\n",
        "dictionary = {'a':'부정관사'}\n",
        "\n",
        "while True:\n",
        "  str = input('$ ')\n",
        "  if str.startswith('q'):\n",
        "    break;\n",
        "  \n",
        "  command = str[0]\n",
        "  \n",
        "  if command is '<':\n",
        "    str = str.replace('<',\"\")\n",
        "    inputStr = str.split(':')\n",
        "    if len(inputStr)< 2 :\n",
        "      print('입력 오류가 발생했습니다.')\n",
        "      continue\n",
        "    else:\n",
        "      dictionary[inputStr[0].strip()] = inputStr[1].strip()\n",
        "    \n",
        "  elif command is '>':\n",
        "    str = str.replace('>',\"\")\n",
        "    inputStr = str.strip()\n",
        "    if inputStr in dictionary:\n",
        "      print(dictionary[inputStr])\n",
        "    else :\n",
        "      print('{}가 사전에 없습니다.'.format(inputStr))\n",
        "  elif command is 'q':\n",
        "    break\n",
        "  else :\n",
        "    print('입력 오류가 발생했습니다.')\n",
        "  \n",
        "print(\"사전 프로그램을 종료합니다.\")"
      ],
      "execution_count": 0,
      "outputs": [
        {
          "output_type": "stream",
          "text": [
            "사전 프로그램 시작... 종료는 q를 입력\n",
            "$ < boy:소년\n",
            "$ < girl:소녀\n",
            "$ < man:남자, 사람\n",
            "$ < woman:여자\n",
            "$ >boy\n",
            "소년\n",
            "$ > boy\n",
            "소년\n",
            "$ > body\n",
            "body가 사전에 없습니다.\n",
            "$ q\n",
            "사전 프로그램을 종료합니다.\n"
          ],
          "name": "stdout"
        }
      ]
    },
    {
      "cell_type": "markdown",
      "metadata": {
        "id": "EP2Cf3ZTQPBl",
        "colab_type": "text"
      },
      "source": [
        "## 6.26 다음과 같이 튜플 (m, n)을 원소로 가지는 리스트 mylist가 있다. 사용자로부터 a, b의 두 값을 입력으로 받아서 (a, b)값을 가지는 튜플이 있을 경우 'x번째에 (a, b)원소가 있습니다.'를 출력하시오. 만일 (a, b) 원소는 없으나 (b, a) 원소가 있을 경우, '(a, b)원소는 없으나 y번째에 (b, a) 원소가 있습니다'를 출력하시오. 만일 (a, b) 원소나 (b, a) 원소가 없을 경우에는 '이 원소는 없습니다'를 출력하시오.\n",
        "---\n",
        "```\n",
        "mylist = [(1, 2), (4, 5), (4, 2), (3, 1), (9, 4)]\n",
        "```\n",
        "실행 결과\n",
        "\n",
        "\n",
        "```\n",
        "두 정수를 입력하시오: 4 9\n",
        "(4, 9) 원소는 없으나 5번째에 (9, 4) 원소가 있습니다.\n",
        "```\n",
        "\n"
      ]
    },
    {
      "cell_type": "code",
      "metadata": {
        "id": "bsxQx336RiT8",
        "colab_type": "code",
        "outputId": "61a62af9-c619-4562-df46-c623dbffeb82",
        "colab": {
          "base_uri": "https://localhost:8080/",
          "height": 35
        }
      },
      "source": [
        "mylist = [(1, 2), (4, 5), (4, 2), (3, 1), (9, 4), (8, 8), (4, 0)]\n",
        "print(mylist)"
      ],
      "execution_count": 0,
      "outputs": [
        {
          "output_type": "stream",
          "text": [
            "[(1, 2), (4, 5), (4, 2), (3, 1), (9, 4), (8, 8), (4, 0)]\n"
          ],
          "name": "stdout"
        }
      ]
    },
    {
      "cell_type": "code",
      "metadata": {
        "id": "LaplKP3vRvdK",
        "colab_type": "code",
        "outputId": "71cd1803-69dd-4724-8753-f5c5df1292f9",
        "colab": {
          "base_uri": "https://localhost:8080/",
          "height": 52
        }
      },
      "source": [
        "a, b = input('두 정수를 입력하시오:').split()\n",
        "a, b = int(a), int(b)\n",
        "if (a, b) in mylist:\n",
        "  idx = mylist.index((a, b))\n",
        "  print('{}번째에 {} 원소가 있습니다.'.format(idx+1, (a, b)))\n",
        "elif (b, a) in mylist:\n",
        "  idx = mylist.index((b, a))\n",
        "  print('{} 원소는 없으나 {}번째에 {} 원소가 있습니다.'.format((a, b), idx+1, (b,a)))\n",
        "else:\n",
        "  print('{} 원소나 {} 원소는 없습니다'.format((a, b), (b, a)))"
      ],
      "execution_count": 0,
      "outputs": [
        {
          "output_type": "stream",
          "text": [
            "두 정수를 입력하시오:4 9\n",
            "(4, 9) 원소는 없으나 5번째에 (9, 4) 원소가 있습니다.\n"
          ],
          "name": "stdout"
        }
      ]
    },
    {
      "cell_type": "code",
      "metadata": {
        "id": "zjM7e9G8pLFX",
        "colab_type": "code",
        "colab": {}
      },
      "source": [
        ""
      ],
      "execution_count": 0,
      "outputs": []
    }
  ]
}